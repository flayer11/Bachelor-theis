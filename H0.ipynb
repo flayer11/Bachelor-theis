{
 "cells": [
  {
   "cell_type": "code",
   "execution_count": 2,
   "metadata": {},
   "outputs": [],
   "source": [
    "import pandas as pd\n",
    "import numpy as np\n",
    "import matplotlib.pyplot as plt\n",
    "import seaborn as sns\n",
    "import datetime\n",
    "%matplotlib inline"
   ]
  },
  {
   "cell_type": "code",
   "execution_count": 3,
   "metadata": {},
   "outputs": [],
   "source": [
    "df = pd.read_excel(r\"C:/Users/Janwe/OneDrive/Desktop/Bachelor_Arbeit/Daten/Last_Profile/Profile_VDEW.xls\")\n",
    "df = df.drop(index=[0,98])"
   ]
  },
  {
   "cell_type": "code",
   "execution_count": 4,
   "metadata": {},
   "outputs": [
    {
     "data": {
      "text/html": [
       "<div>\n",
       "<style scoped>\n",
       "    .dataframe tbody tr th:only-of-type {\n",
       "        vertical-align: middle;\n",
       "    }\n",
       "\n",
       "    .dataframe tbody tr th {\n",
       "        vertical-align: top;\n",
       "    }\n",
       "\n",
       "    .dataframe thead th {\n",
       "        text-align: right;\n",
       "    }\n",
       "</style>\n",
       "<table border=\"1\" class=\"dataframe\">\n",
       "  <thead>\n",
       "    <tr style=\"text-align: right;\">\n",
       "      <th></th>\n",
       "      <th>Haushalt</th>\n",
       "      <th>Unnamed: 1</th>\n",
       "      <th>Unnamed: 2</th>\n",
       "      <th>Unnamed: 3</th>\n",
       "      <th>Unnamed: 4</th>\n",
       "      <th>Unnamed: 5</th>\n",
       "      <th>Unnamed: 6</th>\n",
       "      <th>Unnamed: 7</th>\n",
       "      <th>Unnamed: 8</th>\n",
       "      <th>Unnamed: 9</th>\n",
       "    </tr>\n",
       "  </thead>\n",
       "  <tbody>\n",
       "    <tr>\n",
       "      <th>1</th>\n",
       "      <td>[W]</td>\n",
       "      <td>Samstag</td>\n",
       "      <td>Sonntag</td>\n",
       "      <td>Werktag</td>\n",
       "      <td>Samstag</td>\n",
       "      <td>Sonntag</td>\n",
       "      <td>Werktag</td>\n",
       "      <td>Samstag</td>\n",
       "      <td>Sonntag</td>\n",
       "      <td>Werktag</td>\n",
       "    </tr>\n",
       "    <tr>\n",
       "      <th>2</th>\n",
       "      <td>00:15:00</td>\n",
       "      <td>70.8</td>\n",
       "      <td>87.5</td>\n",
       "      <td>67.6</td>\n",
       "      <td>89.8</td>\n",
       "      <td>100.1</td>\n",
       "      <td>86.3</td>\n",
       "      <td>80.2</td>\n",
       "      <td>93.4</td>\n",
       "      <td>77.8</td>\n",
       "    </tr>\n",
       "    <tr>\n",
       "      <th>3</th>\n",
       "      <td>00:30:00</td>\n",
       "      <td>68.2</td>\n",
       "      <td>81.1</td>\n",
       "      <td>60.8</td>\n",
       "      <td>84.9</td>\n",
       "      <td>92.5</td>\n",
       "      <td>76.9</td>\n",
       "      <td>75.1</td>\n",
       "      <td>86.8</td>\n",
       "      <td>69.6</td>\n",
       "    </tr>\n",
       "    <tr>\n",
       "      <th>4</th>\n",
       "      <td>00:45:00</td>\n",
       "      <td>65.9</td>\n",
       "      <td>75</td>\n",
       "      <td>54.9</td>\n",
       "      <td>80.7</td>\n",
       "      <td>85.9</td>\n",
       "      <td>68.8</td>\n",
       "      <td>70.7</td>\n",
       "      <td>81.2</td>\n",
       "      <td>62.4</td>\n",
       "    </tr>\n",
       "    <tr>\n",
       "      <th>5</th>\n",
       "      <td>01:00:00</td>\n",
       "      <td>63.3</td>\n",
       "      <td>69.1</td>\n",
       "      <td>49.9</td>\n",
       "      <td>76.6</td>\n",
       "      <td>79.9</td>\n",
       "      <td>62.4</td>\n",
       "      <td>66.6</td>\n",
       "      <td>75.7</td>\n",
       "      <td>56.6</td>\n",
       "    </tr>\n",
       "  </tbody>\n",
       "</table>\n",
       "</div>"
      ],
      "text/plain": [
       "   Haushalt Unnamed: 1 Unnamed: 2 Unnamed: 3 Unnamed: 4 Unnamed: 5 Unnamed: 6  \\\n",
       "1       [W]    Samstag    Sonntag    Werktag    Samstag    Sonntag    Werktag   \n",
       "2  00:15:00       70.8       87.5       67.6       89.8      100.1       86.3   \n",
       "3  00:30:00       68.2       81.1       60.8       84.9       92.5       76.9   \n",
       "4  00:45:00       65.9         75       54.9       80.7       85.9       68.8   \n",
       "5  01:00:00       63.3       69.1       49.9       76.6       79.9       62.4   \n",
       "\n",
       "  Unnamed: 7 Unnamed: 8 Unnamed: 9  \n",
       "1    Samstag    Sonntag    Werktag  \n",
       "2       80.2       93.4       77.8  \n",
       "3       75.1       86.8       69.6  \n",
       "4       70.7       81.2       62.4  \n",
       "5       66.6       75.7       56.6  "
      ]
     },
     "execution_count": 4,
     "metadata": {},
     "output_type": "execute_result"
    }
   ],
   "source": [
    "df.head()"
   ]
  },
  {
   "cell_type": "code",
   "execution_count": 6,
   "metadata": {},
   "outputs": [],
   "source": [
    "winter = df[['Haushalt', 'Unnamed: 1', 'Unnamed: 2', 'Unnamed: 3']]\n",
    "winter.columns = [\"date\", \"saturday\", \"sunday\", \"workday\"]\n",
    "winter = winter.drop(1)\n",
    "winter.reset_index(inplace=True)\n",
    "winter = winter.drop(columns=\"index\")"
   ]
  },
  {
   "cell_type": "code",
   "execution_count": 7,
   "metadata": {},
   "outputs": [
    {
     "data": {
      "text/html": [
       "<div>\n",
       "<style scoped>\n",
       "    .dataframe tbody tr th:only-of-type {\n",
       "        vertical-align: middle;\n",
       "    }\n",
       "\n",
       "    .dataframe tbody tr th {\n",
       "        vertical-align: top;\n",
       "    }\n",
       "\n",
       "    .dataframe thead th {\n",
       "        text-align: right;\n",
       "    }\n",
       "</style>\n",
       "<table border=\"1\" class=\"dataframe\">\n",
       "  <thead>\n",
       "    <tr style=\"text-align: right;\">\n",
       "      <th></th>\n",
       "      <th>date</th>\n",
       "      <th>saturday</th>\n",
       "      <th>sunday</th>\n",
       "      <th>workday</th>\n",
       "    </tr>\n",
       "  </thead>\n",
       "  <tbody>\n",
       "    <tr>\n",
       "      <th>0</th>\n",
       "      <td>00:15:00</td>\n",
       "      <td>70.8</td>\n",
       "      <td>87.5</td>\n",
       "      <td>67.6</td>\n",
       "    </tr>\n",
       "    <tr>\n",
       "      <th>1</th>\n",
       "      <td>00:30:00</td>\n",
       "      <td>68.2</td>\n",
       "      <td>81.1</td>\n",
       "      <td>60.8</td>\n",
       "    </tr>\n",
       "    <tr>\n",
       "      <th>2</th>\n",
       "      <td>00:45:00</td>\n",
       "      <td>65.9</td>\n",
       "      <td>75</td>\n",
       "      <td>54.9</td>\n",
       "    </tr>\n",
       "    <tr>\n",
       "      <th>3</th>\n",
       "      <td>01:00:00</td>\n",
       "      <td>63.3</td>\n",
       "      <td>69.1</td>\n",
       "      <td>49.9</td>\n",
       "    </tr>\n",
       "    <tr>\n",
       "      <th>4</th>\n",
       "      <td>01:15:00</td>\n",
       "      <td>59.5</td>\n",
       "      <td>63.4</td>\n",
       "      <td>46.2</td>\n",
       "    </tr>\n",
       "  </tbody>\n",
       "</table>\n",
       "</div>"
      ],
      "text/plain": [
       "       date saturday sunday workday\n",
       "0  00:15:00     70.8   87.5    67.6\n",
       "1  00:30:00     68.2   81.1    60.8\n",
       "2  00:45:00     65.9     75    54.9\n",
       "3  01:00:00     63.3   69.1    49.9\n",
       "4  01:15:00     59.5   63.4    46.2"
      ]
     },
     "execution_count": 7,
     "metadata": {},
     "output_type": "execute_result"
    }
   ],
   "source": [
    "winter.head()"
   ]
  },
  {
   "cell_type": "code",
   "execution_count": 9,
   "metadata": {},
   "outputs": [],
   "source": [
    "summer = df[['Haushalt', 'Unnamed: 4', 'Unnamed: 5', 'Unnamed: 6']]\n",
    "summer.columns = [\"date\", \"saturday\", \"sunday\", \"workday\"]\n",
    "summer = summer.drop(1)\n",
    "summer.reset_index(inplace=True,drop=True)"
   ]
  },
  {
   "cell_type": "code",
   "execution_count": 10,
   "metadata": {},
   "outputs": [],
   "source": [
    "transition = df[['Haushalt', 'Unnamed: 7', 'Unnamed: 8', 'Unnamed: 9']]\n",
    "transition.columns = [\"date\", \"saturday\", \"sunday\", \"workday\"]\n",
    "transition = transition.drop(1)\n",
    "transition.reset_index(inplace=True,drop=True)"
   ]
  },
  {
   "cell_type": "code",
   "execution_count": 11,
   "metadata": {},
   "outputs": [],
   "source": [
    "def dateTimeList(start,end):\n",
    "    result=[start]\n",
    "    while(start < end) :\n",
    "        start += datetime.timedelta(minutes=15)\n",
    "        result.append(start)\n",
    "    return result"
   ]
  },
  {
   "cell_type": "code",
   "execution_count": 12,
   "metadata": {},
   "outputs": [],
   "source": [
    "h0 = pd.DataFrame(columns=[\"date\",\"load\"])\n",
    "start = datetime.datetime(2019,4,1,0,15,0)\n",
    "end = datetime.datetime(2013,4,8,0,0,0)\n",
    "\n",
    "h0[\"date\"] = dateTimeList(start,end)\n",
    "\n",
    "res = -1\n",
    "ind =[]\n",
    "\n",
    "for i in range(len(h0)):\n",
    "    if(res == 95):\n",
    "        res=-1\n",
    "    res += 1\n",
    "    ind.append(res)\n",
    "    \n",
    "h0[\"Id\"] = ind\n",
    "summer.index.name = \"Id\"\n",
    "h0_final = h0.merge(summer, how='left',on=\"Id\")"
   ]
  },
  {
   "cell_type": "code",
   "execution_count": 13,
   "metadata": {},
   "outputs": [],
   "source": [
    "def specLoad(row):\n",
    "    if(row[\"date_x\"].dayofweek<5):\n",
    "        if(row[\"date_x\"].dayofweek==0 and row[\"date_y\"] == \"00:00:00\"):\n",
    "            return row[\"sunday\"]\n",
    "        return row[\"workday\"]\n",
    "    elif(row[\"date_x\"].dayofweek==5):\n",
    "        if(row[\"date_y\"] == \"00:00:00\"):\n",
    "            return row[\"workday\"]\n",
    "        return row[\"saturday\"]\n",
    "    elif(row[\"date_x\"].dayofweek==6):\n",
    "        if(row[\"date_y\"] == \"00:00:00\"):\n",
    "            return row[\"saturday\"]\n",
    "        return row[\"sunday\"]"
   ]
  },
  {
   "cell_type": "code",
   "execution_count": 14,
   "metadata": {},
   "outputs": [],
   "source": [
    "h0_final[\"load\"] = h0_final.apply(lambda row: specLoad(row),axis=1)\n",
    "h0_final.rename(columns={\"date_x\" : \"date\"},inplace=True)\n",
    "h0_final = h0_final[[\"date\",\"load\"]]"
   ]
  },
  {
   "cell_type": "code",
   "execution_count": 15,
   "metadata": {},
   "outputs": [],
   "source": [
    "h0_summer_date = h0_final.copy()"
   ]
  },
  {
   "cell_type": "code",
   "execution_count": 16,
   "metadata": {},
   "outputs": [],
   "source": [
    "#converte Wh to kWh\n",
    "h0_summer_date[\"load\"] = h0_summer_date[\"load\"]/1000\n",
    "#converte kWh to MWh\n",
    "h0_summer_date[\"load\"] = h0_summer_date[\"load\"]/1000"
   ]
  },
  {
   "cell_type": "code",
   "execution_count": 21,
   "metadata": {},
   "outputs": [],
   "source": [
    "#Multiply with the number of households\n",
    "h0_summer_date[\"load\"] = h0_summer_date[\"load\"]*65000"
   ]
  },
  {
   "cell_type": "code",
   "execution_count": 35,
   "metadata": {},
   "outputs": [],
   "source": [
    "#Dynamisierungsfaktor F\n",
    "\n",
    "def dynamismFactor(t):\n",
    "    return (-3.92*10**-10)*t**4 + (3.2*10**-7)*t**3 - (7.02*10**-5)*t**2 + (2.1*10**-3)*t + 1.24"
   ]
  }
 ],
 "metadata": {
  "kernelspec": {
   "display_name": "PyCharm (original)",
   "language": "python",
   "name": "pycharm-6cbebc47"
  },
  "language_info": {
   "codemirror_mode": {
    "name": "ipython",
    "version": 3
   },
   "file_extension": ".py",
   "mimetype": "text/x-python",
   "name": "python",
   "nbconvert_exporter": "python",
   "pygments_lexer": "ipython3",
   "version": "3.7.6"
  },
  "pycharm": {
   "stem_cell": {
    "cell_type": "raw",
    "metadata": {
     "collapsed": false
    },
    "source": []
   }
  }
 },
 "nbformat": 4,
 "nbformat_minor": 4
}
