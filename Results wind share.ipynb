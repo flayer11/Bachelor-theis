{
 "cells": [
  {
   "cell_type": "code",
   "execution_count": 1,
   "metadata": {},
   "outputs": [],
   "source": [
    "import pandas as pd\n",
    "import numpy as np\n",
    "import matplotlib.pyplot as plt\n",
    "import seaborn as sns\n",
    "from datetime import datetime\n",
    "import os\n",
    "import datetime\n",
    "import plotly.graph_objects as go\n",
    "%matplotlib inline\n",
    "plt.style.use('ggplot')\n",
    "from plotly import __version__\n",
    "from plotly.offline import download_plotlyjs, init_notebook_mode, plot, iplot"
   ]
  },
  {
   "cell_type": "code",
   "execution_count": 2,
   "metadata": {},
   "outputs": [],
   "source": [
    "def surplus(df):\n",
    "    df_surplus = df.copy()\n",
    "    df_surplus.fillna(0,inplace=True)\n",
    "    df_surplus[\"surplus\"] = df_surplus[\"Gres\"] + df_surplus[\"batCharge\"] + df_surplus[\"evCharge\"] + df_surplus[\"b\"]\n",
    "    df_surplus[\"load\"] =  df_surplus[\"evCharge\"] + df_surplus[\"b\"]\n",
    "    df_surplus[\"surplus\"][df_surplus[\"surplus\"]<0] = 0\n",
    "    df_surplus[\"Gres_sur\"] = df_surplus[\"Gres\"] - df_surplus[\"surplus\"]\n",
    "    return df_surplus"
   ]
  },
  {
   "cell_type": "code",
   "execution_count": 3,
   "metadata": {},
   "outputs": [],
   "source": [
    "df1 = pd.read_csv(r\"C:\\Users\\Janwe\\OneDrive\\Desktop\\Bachelor_Arbeit\\Daten\\Szenarien\\upperBenchmark\\1_upperBenchmark_50b.csv\")\n",
    "df2 = pd.read_csv(r\"C:\\Users\\Janwe\\OneDrive\\Desktop\\Bachelor_Arbeit\\Daten\\Szenarien\\upperBenchmark\\2_upperBenchmark_50b.csv\")\n",
    "df3 = pd.read_csv(r\"C:\\Users\\Janwe\\OneDrive\\Desktop\\Bachelor_Arbeit\\Daten\\Szenarien\\upperBenchmark\\3_upperBenchmark_50b.csv\")\n",
    "df4 = pd.read_csv(r\"C:\\Users\\Janwe\\OneDrive\\Desktop\\Bachelor_Arbeit\\Daten\\Szenarien\\upperBenchmark\\4_upperBenchmark_50b.csv\")\n",
    "frames = [df1,df2,df3,df4]\n",
    "df_bench = pd.concat(frames)\n",
    "df_bench.reset_index(drop=True, inplace=True)"
   ]
  },
  {
   "cell_type": "code",
   "execution_count": 4,
   "metadata": {},
   "outputs": [],
   "source": [
    "df1 = pd.read_csv(r\"C:/Users/Janwe/OneDrive/Desktop/Bachelor_Arbeit/Daten/Szenarien/Renewable_Energy_Mix/1_wind_0.csv\")\n",
    "df2 = pd.read_csv(r\"C:/Users/Janwe/OneDrive/Desktop/Bachelor_Arbeit/Daten/Szenarien/Renewable_Energy_Mix/2_wind_0.csv\")\n",
    "df3 = pd.read_csv(r\"C:/Users/Janwe/OneDrive/Desktop/Bachelor_Arbeit/Daten/Szenarien/Renewable_Energy_Mix/3_wind_0.csv\")\n",
    "df4 = pd.read_csv(r\"C:/Users/Janwe/OneDrive/Desktop/Bachelor_Arbeit/Daten/Szenarien/Renewable_Energy_Mix/4_wind_0.csv\")\n",
    "frames = [df1,df2,df3,df4]\n",
    "df_wind_0 = pd.concat(frames)\n",
    "df_wind_0.reset_index(drop=True, inplace=True)"
   ]
  },
  {
   "cell_type": "code",
   "execution_count": 5,
   "metadata": {},
   "outputs": [],
   "source": [
    "df = pd.read_csv(r\"C:/Users/Janwe/OneDrive/Desktop/Bachelor_Arbeit/Daten/base_data_2019_65000_50.csv\")\n",
    "df1 = pd.read_csv(r\"C:/Users/Janwe/OneDrive/Desktop/Bachelor_Arbeit/Daten/Szenarien/Renewable_Energy_Mix/1_wind_50.csv\")\n",
    "df2 = pd.read_csv(r\"C:/Users/Janwe/OneDrive/Desktop/Bachelor_Arbeit/Daten/Szenarien/Renewable_Energy_Mix/2_wind_50.csv\")\n",
    "df3 = pd.read_csv(r\"C:/Users/Janwe/OneDrive/Desktop/Bachelor_Arbeit/Daten/Szenarien/Renewable_Energy_Mix/3_wind_50.csv\")\n",
    "df4 = pd.read_csv(r\"C:/Users/Janwe/OneDrive/Desktop/Bachelor_Arbeit/Daten/Szenarien/Renewable_Energy_Mix/4_wind_50.csv\")\n",
    "frames = [df1,df2,df3,df4]\n",
    "df_wind_50 = pd.concat(frames)\n",
    "df_wind_50.reset_index(drop=True, inplace=True)"
   ]
  },
  {
   "cell_type": "code",
   "execution_count": 6,
   "metadata": {},
   "outputs": [],
   "source": [
    "df1 = pd.read_csv(r\"C:/Users/Janwe/OneDrive/Desktop/Bachelor_Arbeit/Daten/Szenarien/Renewable_Energy_Mix/1_wind_75.csv\")\n",
    "df2 = pd.read_csv(r\"C:/Users/Janwe/OneDrive/Desktop/Bachelor_Arbeit/Daten/Szenarien/Renewable_Energy_Mix/2_wind_75.csv\")\n",
    "df3 = pd.read_csv(r\"C:/Users/Janwe/OneDrive/Desktop/Bachelor_Arbeit/Daten/Szenarien/Renewable_Energy_Mix/3_wind_75.csv\")\n",
    "df4 = pd.read_csv(r\"C:/Users/Janwe/OneDrive/Desktop/Bachelor_Arbeit/Daten/Szenarien/Renewable_Energy_Mix/4_wind_75.csv\")\n",
    "frames = [df1,df2,df3,df4]\n",
    "df_wind_75 = pd.concat(frames)\n",
    "df_wind_75.reset_index(drop=True, inplace=True)"
   ]
  },
  {
   "cell_type": "code",
   "execution_count": 7,
   "metadata": {},
   "outputs": [],
   "source": [
    "df1 = pd.read_csv(r\"C:/Users/Janwe/OneDrive/Desktop/Bachelor_Arbeit/Daten/Szenarien/Renewable_Energy_Mix/1_wind_100.csv\")\n",
    "df2 = pd.read_csv(r\"C:/Users/Janwe/OneDrive/Desktop/Bachelor_Arbeit/Daten/Szenarien/Renewable_Energy_Mix/2_wind_100.csv\")\n",
    "df3 = pd.read_csv(r\"C:/Users/Janwe/OneDrive/Desktop/Bachelor_Arbeit/Daten/Szenarien/Renewable_Energy_Mix/3_wind_100.csv\")\n",
    "df4 = pd.read_csv(r\"C:/Users/Janwe/OneDrive/Desktop/Bachelor_Arbeit/Daten/Szenarien/Renewable_Energy_Mix/4_wind_100.csv\")\n",
    "frames = [df1,df2,df3,df4]\n",
    "df_wind_100 = pd.concat(frames)\n",
    "df_wind_100.reset_index(drop=True, inplace=True)"
   ]
  },
  {
   "cell_type": "code",
   "execution_count": 8,
   "metadata": {},
   "outputs": [
    {
     "data": {
      "text/plain": [
       "0.33348939282529044"
      ]
     },
     "execution_count": 8,
     "metadata": {},
     "output_type": "execute_result"
    }
   ],
   "source": [
    "#conventional generation in winter\n",
    "\n",
    "1 - (sum(df_wind_50[:8640][\"Gr\"]) + sum(df_wind_50[26112:][\"Gr\"]) ) / (sum(df_bench[:8640][\"Gr\"]) + sum(df_bench[26112:][\"Gr\"]))"
   ]
  },
  {
   "cell_type": "code",
   "execution_count": 9,
   "metadata": {},
   "outputs": [],
   "source": [
    "#SCR"
   ]
  },
  {
   "cell_type": "code",
   "execution_count": 10,
   "metadata": {},
   "outputs": [
    {
     "data": {
      "text/plain": [
       "201200.00000000317"
      ]
     },
     "execution_count": 10,
     "metadata": {},
     "output_type": "execute_result"
    }
   ],
   "source": [
    "sum(df_wind_75[\"Gres\"])"
   ]
  },
  {
   "cell_type": "code",
   "execution_count": 11,
   "metadata": {},
   "outputs": [
    {
     "data": {
      "text/plain": [
       "227.5"
      ]
     },
     "execution_count": 11,
     "metadata": {},
     "output_type": "execute_result"
    }
   ],
   "source": [
    "65000*0.5*0.007"
   ]
  },
  {
   "cell_type": "code",
   "execution_count": 12,
   "metadata": {},
   "outputs": [],
   "source": [
    "df_Gr = pd.DataFrame(columns=[\"Gr\", \"Wind Share\"])\n",
    "df_Gr[\"Gr\"] = [sum(df_wind_0[\"Gr\"]), sum(df_bench[\"Gr\"]), sum(df_wind_50[\"Gr\"]),sum(df_wind_75[\"Gr\"]), sum(df_wind_100[\"Gr\"])]\n",
    "df_Gr[\"Wind Share\"] = [0,25,50,75,100]"
   ]
  },
  {
   "cell_type": "code",
   "execution_count": 13,
   "metadata": {},
   "outputs": [
    {
     "data": {
      "text/plain": [
       "Text(0, 0.5, 'MWh of conventional generation')"
      ]
     },
     "execution_count": 13,
     "metadata": {},
     "output_type": "execute_result"
    },
    {
     "data": {
      "image/png": "[encoded data removed]",
      "text/plain": [
       "<Figure size 576x288 with 1 Axes>"
      ]
     },
     "metadata": {},
     "output_type": "display_data"
    }
   ],
   "source": [
    "ax = df_Gr.plot(y = \"Gr\",x = \"Wind Share\",figsize = (8,4), marker=\"s\", markersize=4, legend=False)\n",
    "plt.xticks([0,25,50,75,100])\n",
    "ax.set_ylabel(\"MWh of conventional generation\")"
   ]
  },
  {
   "cell_type": "markdown",
   "metadata": {},
   "source": [
    "## Comparison between wind and solar"
   ]
  },
  {
   "cell_type": "code",
   "execution_count": 14,
   "metadata": {},
   "outputs": [],
   "source": [
    "df_base_wind = pd.read_csv(r\"C:/Users/Janwe/OneDrive/Desktop/Bachelor_Arbeit/Daten/Szenarien/Renewable_Energy_Mix/RE_base_wind.csv\")\n",
    "df_base_solar = pd.read_csv(r\"C:/Users/Janwe/OneDrive/Desktop/Bachelor_Arbeit/Daten/Szenarien/Renewable_Energy_Mix/RE_base_solar.csv\")\n"
   ]
  },
  {
   "cell_type": "code",
   "execution_count": 15,
   "metadata": {},
   "outputs": [
    {
     "name": "stderr",
     "output_type": "stream",
     "text": [
      "C:\\Users\\Janwe\\anaconda3\\envs\\condaPython3\\lib\\site-packages\\ipykernel_launcher.py:6: SettingWithCopyWarning:\n",
      "\n",
      "\n",
      "A value is trying to be set on a copy of a slice from a DataFrame\n",
      "\n",
      "See the caveats in the documentation: https://pandas.pydata.org/pandas-docs/stable/user_guide/indexing.html#returning-a-view-versus-a-copy\n",
      "\n",
      "C:\\Users\\Janwe\\anaconda3\\envs\\condaPython3\\lib\\site-packages\\ipykernel_launcher.py:6: SettingWithCopyWarning:\n",
      "\n",
      "\n",
      "A value is trying to be set on a copy of a slice from a DataFrame\n",
      "\n",
      "See the caveats in the documentation: https://pandas.pydata.org/pandas-docs/stable/user_guide/indexing.html#returning-a-view-versus-a-copy\n",
      "\n"
     ]
    }
   ],
   "source": [
    "df_surplus_base_wind = surplus(df_base_wind)\n",
    "df_surplus_base_solar = surplus(df_base_solar)"
   ]
  },
  {
   "cell_type": "code",
   "execution_count": 16,
   "metadata": {},
   "outputs": [
    {
     "data": {
      "text/plain": [
       "0.11565240919117048"
      ]
     },
     "execution_count": 16,
     "metadata": {},
     "output_type": "execute_result"
    }
   ],
   "source": [
    "1 - sum(df_base_wind[\"Gr\"]) / sum(df_base_solar[\"Gr\"])"
   ]
  },
  {
   "cell_type": "code",
   "execution_count": 17,
   "metadata": {},
   "outputs": [
    {
     "data": {
      "text/plain": [
       "0.7764696538876503"
      ]
     },
     "execution_count": 17,
     "metadata": {},
     "output_type": "execute_result"
    }
   ],
   "source": [
    "#SCR wind\n",
    "(sum(df_surplus_base_wind[\"Gres\"])-sum(df_surplus_base_wind[\"surplus\"]))/sum(df_surplus_base_wind[\"Gres\"])"
   ]
  },
  {
   "cell_type": "code",
   "execution_count": 18,
   "metadata": {},
   "outputs": [
    {
     "data": {
      "text/plain": [
       "0.13513479736895595"
      ]
     },
     "execution_count": 18,
     "metadata": {},
     "output_type": "execute_result"
    }
   ],
   "source": [
    "0.7764696538876503 - 0.6413348565186944"
   ]
  },
  {
   "cell_type": "code",
   "execution_count": 19,
   "metadata": {},
   "outputs": [
    {
     "data": {
      "text/plain": [
       "0.6413348565186944"
      ]
     },
     "execution_count": 19,
     "metadata": {},
     "output_type": "execute_result"
    }
   ],
   "source": [
    "#SCR solar\n",
    "(sum(df_surplus_base_solar[\"Gres\"])-sum(df_surplus_base_solar[\"surplus\"]))/sum(df_surplus_base_solar[\"Gres\"])"
   ]
  },
  {
   "cell_type": "code",
   "execution_count": 20,
   "metadata": {},
   "outputs": [
    {
     "data": {
      "text/plain": [
       "-0.018411847081894903"
      ]
     },
     "execution_count": 20,
     "metadata": {},
     "output_type": "execute_result"
    }
   ],
   "source": [
    "#SSR wind\n",
    "(sum(df_surplus_base_wind[\"Gres\"]) - sum(df_surplus_base_wind[\"Gr\"])) / abs(sum(df_surplus_base_wind[\"load\"]))"
   ]
  },
  {
   "cell_type": "code",
   "execution_count": 21,
   "metadata": {},
   "outputs": [
    {
     "data": {
      "text/plain": [
       "-0.09308056762777317"
      ]
     },
     "execution_count": 21,
     "metadata": {},
     "output_type": "execute_result"
    }
   ],
   "source": [
    "#SSR wind\n",
    "(sum(df_surplus_base_solar[\"Gres\"]) - sum(df_surplus_base_solar[\"Gr\"])) / abs(sum(df_surplus_base_solar[\"load\"]))"
   ]
  },
  {
   "cell_type": "code",
   "execution_count": 22,
   "metadata": {},
   "outputs": [
    {
     "data": {
      "text/plain": [
       "0.5525499131212264"
      ]
     },
     "execution_count": 22,
     "metadata": {},
     "output_type": "execute_result"
    }
   ],
   "source": [
    "#PDR solar\n",
    "sum(df_surplus_base_solar[\"Gres\"]) / abs(sum(df_surplus_base_solar[\"load\"]))"
   ]
  },
  {
   "cell_type": "code",
   "execution_count": 23,
   "metadata": {},
   "outputs": [
    {
     "data": {
      "text/plain": [
       "0.5525499131212293"
      ]
     },
     "execution_count": 23,
     "metadata": {},
     "output_type": "execute_result"
    }
   ],
   "source": [
    "#PDR solar\n",
    "sum(df_surplus_base_wind[\"Gres\"]) / abs(sum(df_surplus_base_wind[\"load\"]))"
   ]
  },
  {
   "cell_type": "markdown",
   "metadata": {},
   "source": [
    "### Comparison between balance and benchmark"
   ]
  },
  {
   "cell_type": "code",
   "execution_count": 24,
   "metadata": {},
   "outputs": [
    {
     "name": "stderr",
     "output_type": "stream",
     "text": [
      "C:\\Users\\Janwe\\anaconda3\\envs\\condaPython3\\lib\\site-packages\\ipykernel_launcher.py:6: SettingWithCopyWarning:\n",
      "\n",
      "\n",
      "A value is trying to be set on a copy of a slice from a DataFrame\n",
      "\n",
      "See the caveats in the documentation: https://pandas.pydata.org/pandas-docs/stable/user_guide/indexing.html#returning-a-view-versus-a-copy\n",
      "\n",
      "C:\\Users\\Janwe\\anaconda3\\envs\\condaPython3\\lib\\site-packages\\ipykernel_launcher.py:6: SettingWithCopyWarning:\n",
      "\n",
      "\n",
      "A value is trying to be set on a copy of a slice from a DataFrame\n",
      "\n",
      "See the caveats in the documentation: https://pandas.pydata.org/pandas-docs/stable/user_guide/indexing.html#returning-a-view-versus-a-copy\n",
      "\n"
     ]
    }
   ],
   "source": [
    "df_bench_surplus = surplus(df_bench)\n",
    "df_balance_surplus = surplus(df_wind_50)"
   ]
  },
  {
   "cell_type": "code",
   "execution_count": 25,
   "metadata": {},
   "outputs": [
    {
     "data": {
      "text/plain": [
       "0.9062069165523383"
      ]
     },
     "execution_count": 25,
     "metadata": {},
     "output_type": "execute_result"
    }
   ],
   "source": [
    "#SSR benchmark\n",
    "(sum(df_bench_surplus[\"Gres\"]) - sum(df_bench_surplus[\"Gr\"])) / abs(sum(df_bench_surplus[\"load\"]))"
   ]
  },
  {
   "cell_type": "code",
   "execution_count": 26,
   "metadata": {},
   "outputs": [
    {
     "data": {
      "text/plain": [
       "0.9655355428337562"
      ]
     },
     "execution_count": 26,
     "metadata": {},
     "output_type": "execute_result"
    }
   ],
   "source": [
    "#SSR balance\n",
    "(sum(df_balance_surplus[\"Gres\"]) - sum(df_balance_surplus[\"Gr\"])) / abs(sum(df_balance_surplus[\"load\"]))"
   ]
  },
  {
   "cell_type": "code",
   "execution_count": 27,
   "metadata": {},
   "outputs": [
    {
     "data": {
      "text/plain": [
       "0.11273607892880355"
      ]
     },
     "execution_count": 27,
     "metadata": {},
     "output_type": "execute_result"
    }
   ],
   "source": [
    "0.9655355428337562 - 0.8527994639049526"
   ]
  },
  {
   "cell_type": "code",
   "execution_count": 28,
   "metadata": {},
   "outputs": [
    {
     "data": {
      "text/plain": [
       "0.7483342140983521"
      ]
     },
     "execution_count": 28,
     "metadata": {},
     "output_type": "execute_result"
    }
   ],
   "source": [
    "#SCR bench\n",
    "(sum(df_bench_surplus[\"Gres\"])-sum(df_bench_surplus[\"surplus\"]))/sum(df_bench_surplus[\"Gres\"])"
   ]
  },
  {
   "cell_type": "code",
   "execution_count": 29,
   "metadata": {},
   "outputs": [
    {
     "data": {
      "text/plain": [
       "0.782258535917465"
      ]
     },
     "execution_count": 29,
     "metadata": {},
     "output_type": "execute_result"
    }
   ],
   "source": [
    "#SCR balance\n",
    "(sum(df_balance_surplus[\"Gres\"])-sum(df_balance_surplus [\"surplus\"]))/sum(df_balance_surplus [\"Gres\"])"
   ]
  },
  {
   "cell_type": "code",
   "execution_count": 30,
   "metadata": {},
   "outputs": [
    {
     "data": {
      "text/plain": [
       "0.08773217934505562"
      ]
     },
     "execution_count": 30,
     "metadata": {},
     "output_type": "execute_result"
    }
   ],
   "source": [
    "0.782258535917465 - 0.6945263565724094"
   ]
  },
  {
   "cell_type": "code",
   "execution_count": 31,
   "metadata": {},
   "outputs": [
    {
     "data": {
      "text/plain": [
       "2806003.7638266515"
      ]
     },
     "execution_count": 31,
     "metadata": {},
     "output_type": "execute_result"
    }
   ],
   "source": [
    "sum(df_balance_surplus[\"surplus\"])*1000*6.405/100"
   ]
  },
  {
   "cell_type": "code",
   "execution_count": 32,
   "metadata": {},
   "outputs": [
    {
     "data": {
      "text/plain": [
       "3243181.7497045086"
      ]
     },
     "execution_count": 32,
     "metadata": {},
     "output_type": "execute_result"
    }
   ],
   "source": [
    "sum(df_bench_surplus[\"surplus\"])*1000*6.405/100"
   ]
  },
  {
   "cell_type": "code",
   "execution_count": 33,
   "metadata": {},
   "outputs": [],
   "source": [
    "winter_balance = pd.concat([df_balance_surplus[:8640],df_balance_surplus[26112:]])\n",
    "winter_benchmark = pd.concat([df_bench_surplus[:8640],df_bench_surplus[26112:]])"
   ]
  },
  {
   "cell_type": "code",
   "execution_count": 34,
   "metadata": {},
   "outputs": [
    {
     "data": {
      "text/plain": [
       "16969.328119295285"
      ]
     },
     "execution_count": 34,
     "metadata": {},
     "output_type": "execute_result"
    }
   ],
   "source": [
    "sum(winter_balance[\"surplus\"])"
   ]
  },
  {
   "cell_type": "code",
   "execution_count": 35,
   "metadata": {},
   "outputs": [
    {
     "data": {
      "text/plain": [
       "5713.349256645179"
      ]
     },
     "execution_count": 35,
     "metadata": {},
     "output_type": "execute_result"
    }
   ],
   "source": [
    "sum(winter_benchmark[\"surplus\"])"
   ]
  },
  {
   "cell_type": "code",
   "execution_count": 36,
   "metadata": {},
   "outputs": [
    {
     "data": {
      "text/plain": [
       "1.105099826242449"
      ]
     },
     "execution_count": 36,
     "metadata": {},
     "output_type": "execute_result"
    }
   ],
   "source": [
    "sum(df_bench[\"Gres\"]) / abs(sum(df_bench[\"b\"]))"
   ]
  },
  {
   "cell_type": "code",
   "execution_count": null,
   "metadata": {},
   "outputs": [],
   "source": []
  }
 ],
 "metadata": {
  "kernelspec": {
   "display_name": "Python 3",
   "language": "python",
   "name": "python3"
  },
  "language_info": {
   "codemirror_mode": {
    "name": "ipython",
    "version": 3
   },
   "file_extension": ".py",
   "mimetype": "text/x-python",
   "name": "python",
   "nbconvert_exporter": "python",
   "pygments_lexer": "ipython3",
   "version": "3.7.7"
  }
 },
 "nbformat": 4,
 "nbformat_minor": 4
}
