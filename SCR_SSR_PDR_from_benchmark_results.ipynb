{
 "cells": [
  {
   "cell_type": "code",
   "execution_count": 1,
   "metadata": {},
   "outputs": [],
   "source": [
    "import pandas as pd\n",
    "import numpy as np\n",
    "import matplotlib.pyplot as plt\n",
    "import seaborn as sns\n",
    "from datetime import datetime\n",
    "import os\n",
    "import datetime\n",
    "%matplotlib inline\n",
    "plt.style.use('ggplot')"
   ]
  },
  {
   "cell_type": "code",
   "execution_count": 2,
   "metadata": {},
   "outputs": [],
   "source": [
    "def surplus(df):\n",
    "    df_surplus = df.copy()\n",
    "    df_surplus.fillna(0,inplace=True)\n",
    "    df_surplus[\"surplus\"] = df_surplus[\"Gres\"] + df_surplus[\"batCharge\"] + df_surplus[\"evCharge\"] + df_surplus[\"b\"]\n",
    "    df_surplus[\"load\"] =  df_surplus[\"evCharge\"] + df_surplus[\"b\"]\n",
    "    df_surplus[\"surplus\"][df_surplus[\"surplus\"]<0] = 0\n",
    "    df_surplus[\"Gres_sur\"] = df_surplus[\"Gres\"] - df_surplus[\"surplus\"]\n",
    "    return df_surplus"
   ]
  },
  {
   "cell_type": "markdown",
   "metadata": {},
   "source": [
    "## Benchmark"
   ]
  },
  {
   "cell_type": "markdown",
   "metadata": {},
   "source": [
    "### 0 BESS"
   ]
  },
  {
   "cell_type": "code",
   "execution_count": 3,
   "metadata": {},
   "outputs": [],
   "source": [
    "df1 = pd.read_csv(r\"C:\\Users\\Janwe\\OneDrive\\Desktop\\Bachelor_Arbeit\\Direct Load Control Model\\Data\\MILP solutions\\upperBenchmark\\1_upperBenchmark_0b.csv\")\n",
    "df2 = pd.read_csv(r\"C:\\Users\\Janwe\\OneDrive\\Desktop\\Bachelor_Arbeit\\Direct Load Control Model\\Data\\MILP solutions\\upperBenchmark\\2_upperBenchmark_0b.csv\")\n",
    "df3 = pd.read_csv(r\"C:\\Users\\Janwe\\OneDrive\\Desktop\\Bachelor_Arbeit\\Direct Load Control Model\\Data\\MILP solutions\\upperBenchmark\\3_upperBenchmark_0b.csv\")\n",
    "df4 = pd.read_csv(r\"C:\\Users\\Janwe\\OneDrive\\Desktop\\Bachelor_Arbeit\\Direct Load Control Model\\Data\\MILP solutions\\upperBenchmark\\4_upperBenchmark_0b.csv\")\n",
    "frames = [df1,df2,df3,df4]\n",
    "df_bench0 = pd.concat(frames)\n",
    "df_bench0.reset_index(drop=True, inplace=True)"
   ]
  },
  {
   "cell_type": "code",
   "execution_count": 4,
   "metadata": {},
   "outputs": [
    {
     "name": "stderr",
     "output_type": "stream",
     "text": [
      "C:\\Users\\Janwe\\anaconda3\\envs\\condaPython3\\lib\\site-packages\\ipykernel_launcher.py:6: SettingWithCopyWarning: \n",
      "A value is trying to be set on a copy of a slice from a DataFrame\n",
      "\n",
      "See the caveats in the documentation: https://pandas.pydata.org/pandas-docs/stable/user_guide/indexing.html#returning-a-view-versus-a-copy\n",
      "  \n"
     ]
    }
   ],
   "source": [
    "df_surplus0 = surplus(df_bench0)"
   ]
  },
  {
   "cell_type": "code",
   "execution_count": 5,
   "metadata": {},
   "outputs": [
    {
     "data": {
      "text/plain": [
       "0.5489100192601101"
      ]
     },
     "execution_count": 5,
     "metadata": {},
     "output_type": "execute_result"
    }
   ],
   "source": [
    "#SCR\n",
    "(sum(df_surplus0[\"Gres\"])-sum(df_surplus0[\"surplus\"]))/sum(df_surplus0[\"Gres\"])"
   ]
  },
  {
   "cell_type": "code",
   "execution_count": 6,
   "metadata": {},
   "outputs": [
    {
     "data": {
      "text/plain": [
       "0.7081713984404097"
      ]
     },
     "execution_count": 6,
     "metadata": {},
     "output_type": "execute_result"
    }
   ],
   "source": [
    "#SSR\n",
    "(sum(df_surplus0[\"Gres\"]) - sum(df_surplus0[\"Gr\"])) / abs(sum(df_surplus0[\"load\"]))"
   ]
  },
  {
   "cell_type": "code",
   "execution_count": 7,
   "metadata": {},
   "outputs": [
    {
     "data": {
      "text/plain": [
       "1.1028215824040786"
      ]
     },
     "execution_count": 7,
     "metadata": {},
     "output_type": "execute_result"
    }
   ],
   "source": [
    "#PDR\n",
    "sum(df_surplus0[\"Gres\"]) / abs(sum(df_surplus0[\"load\"]))"
   ]
  },
  {
   "cell_type": "markdown",
   "metadata": {},
   "source": [
    "### 25 BESS"
   ]
  },
  {
   "cell_type": "code",
   "execution_count": 8,
   "metadata": {},
   "outputs": [],
   "source": [
    "df1 = pd.read_csv(r\"C:\\Users\\Janwe\\OneDrive\\Desktop\\Bachelor_Arbeit\\Direct Load Control Model\\Data\\MILP solutions\\upperBenchmark\\1_upperBenchmark_25b.csv\")\n",
    "df2 = pd.read_csv(r\"C:\\Users\\Janwe\\OneDrive\\Desktop\\Bachelor_Arbeit\\Direct Load Control Model\\Data\\MILP solutions\\upperBenchmark\\2_upperBenchmark_25b.csv\")\n",
    "df3 = pd.read_csv(r\"C:\\Users\\Janwe\\OneDrive\\Desktop\\Bachelor_Arbeit\\Direct Load Control Model\\Data\\MILP solutions\\upperBenchmark\\3_upperBenchmark_25b.csv\")\n",
    "df4 = pd.read_csv(r\"C:\\Users\\Janwe\\OneDrive\\Desktop\\Bachelor_Arbeit\\Direct Load Control Model\\Data\\MILP solutions\\upperBenchmark\\4_upperBenchmark_25b.csv\")\n",
    "frames = [df1,df2,df3,df4]\n",
    "df_bench25 = pd.concat(frames)\n",
    "df_bench25.reset_index(drop=True, inplace=True)"
   ]
  },
  {
   "cell_type": "code",
   "execution_count": 9,
   "metadata": {},
   "outputs": [
    {
     "name": "stderr",
     "output_type": "stream",
     "text": [
      "C:\\Users\\Janwe\\anaconda3\\envs\\condaPython3\\lib\\site-packages\\ipykernel_launcher.py:6: SettingWithCopyWarning: \n",
      "A value is trying to be set on a copy of a slice from a DataFrame\n",
      "\n",
      "See the caveats in the documentation: https://pandas.pydata.org/pandas-docs/stable/user_guide/indexing.html#returning-a-view-versus-a-copy\n",
      "  \n"
     ]
    }
   ],
   "source": [
    "df_surplus25 = surplus(df_bench25)"
   ]
  },
  {
   "cell_type": "code",
   "execution_count": 10,
   "metadata": {},
   "outputs": [
    {
     "data": {
      "text/plain": [
       "0.6945263565724094"
      ]
     },
     "execution_count": 10,
     "metadata": {},
     "output_type": "execute_result"
    }
   ],
   "source": [
    "(sum(df_surplus25[\"Gres\"])-sum(df_surplus25[\"surplus\"]))/sum(df_surplus25[\"Gres\"])"
   ]
  },
  {
   "cell_type": "code",
   "execution_count": 11,
   "metadata": {},
   "outputs": [
    {
     "data": {
      "text/plain": [
       "0.8527994639049526"
      ]
     },
     "execution_count": 11,
     "metadata": {},
     "output_type": "execute_result"
    }
   ],
   "source": [
    "(sum(df_surplus25[\"Gres\"]) - sum(df_surplus25[\"Gr\"])) / abs(sum(df_surplus25[\"load\"]))"
   ]
  },
  {
   "cell_type": "code",
   "execution_count": 12,
   "metadata": {},
   "outputs": [
    {
     "data": {
      "text/plain": [
       "0.6420998318307344"
      ]
     },
     "execution_count": 12,
     "metadata": {},
     "output_type": "execute_result"
    }
   ],
   "source": [
    "0.8527994639049526 - 0.21069963207421824"
   ]
  },
  {
   "cell_type": "code",
   "execution_count": 13,
   "metadata": {},
   "outputs": [
    {
     "data": {
      "text/plain": [
       "1.102821582404068"
      ]
     },
     "execution_count": 13,
     "metadata": {},
     "output_type": "execute_result"
    }
   ],
   "source": [
    "sum(df_surplus25[\"Gres\"]) / abs(sum(df_surplus25[\"load\"]))"
   ]
  },
  {
   "cell_type": "markdown",
   "metadata": {},
   "source": [
    "### 50 BESS"
   ]
  },
  {
   "cell_type": "code",
   "execution_count": 14,
   "metadata": {},
   "outputs": [],
   "source": [
    "df1 = pd.read_csv(r\"C:\\Users\\Janwe\\OneDrive\\Desktop\\Bachelor_Arbeit\\Direct Load Control Model\\Data\\MILP solutions\\upperBenchmark\\1_upperBenchmark_50b.csv\")\n",
    "df2 = pd.read_csv(r\"C:\\Users\\Janwe\\OneDrive\\Desktop\\Bachelor_Arbeit\\Direct Load Control Model\\Data\\MILP solutions\\upperBenchmark\\2_upperBenchmark_50b.csv\")\n",
    "df3 = pd.read_csv(r\"C:\\Users\\Janwe\\OneDrive\\Desktop\\Bachelor_Arbeit\\Direct Load Control Model\\Data\\MILP solutions\\upperBenchmark\\3_upperBenchmark_50b.csv\")\n",
    "df4 = pd.read_csv(r\"C:\\Users\\Janwe\\OneDrive\\Desktop\\Bachelor_Arbeit\\Direct Load Control Model\\Data\\MILP solutions\\upperBenchmark\\4_upperBenchmark_50b.csv\")\n",
    "frames = [df1,df2,df3,df4]\n",
    "df_bench50 = pd.concat(frames)\n",
    "df_bench50.reset_index(drop=True, inplace=True)"
   ]
  },
  {
   "cell_type": "code",
   "execution_count": 15,
   "metadata": {},
   "outputs": [
    {
     "name": "stderr",
     "output_type": "stream",
     "text": [
      "C:\\Users\\Janwe\\anaconda3\\envs\\condaPython3\\lib\\site-packages\\ipykernel_launcher.py:6: SettingWithCopyWarning: \n",
      "A value is trying to be set on a copy of a slice from a DataFrame\n",
      "\n",
      "See the caveats in the documentation: https://pandas.pydata.org/pandas-docs/stable/user_guide/indexing.html#returning-a-view-versus-a-copy\n",
      "  \n"
     ]
    }
   ],
   "source": [
    "df_surplus50 = surplus(df_bench50)"
   ]
  },
  {
   "cell_type": "code",
   "execution_count": 16,
   "metadata": {},
   "outputs": [
    {
     "data": {
      "text/plain": [
       "0.7483342140983521"
      ]
     },
     "execution_count": 16,
     "metadata": {},
     "output_type": "execute_result"
    }
   ],
   "source": [
    "#SCR\n",
    "(sum(df_surplus50[\"Gres\"])-sum(df_surplus50[\"surplus\"]))/sum(df_surplus50[\"Gres\"])"
   ]
  },
  {
   "cell_type": "code",
   "execution_count": 17,
   "metadata": {},
   "outputs": [
    {
     "data": {
      "text/plain": [
       "0.9062069165523383"
      ]
     },
     "execution_count": 17,
     "metadata": {},
     "output_type": "execute_result"
    }
   ],
   "source": [
    "#SSR\n",
    "(sum(df_surplus50[\"Gres\"]) - sum(df_surplus50[\"Gr\"])) / abs(sum(df_surplus50[\"load\"]))"
   ]
  },
  {
   "cell_type": "code",
   "execution_count": 18,
   "metadata": {},
   "outputs": [
    {
     "data": {
      "text/plain": [
       "1.1028215824040806"
      ]
     },
     "execution_count": 18,
     "metadata": {},
     "output_type": "execute_result"
    }
   ],
   "source": [
    "#PDR\n",
    "sum(df_surplus50[\"Gres\"]) / abs(sum(df_surplus50[\"load\"]))"
   ]
  },
  {
   "cell_type": "markdown",
   "metadata": {},
   "source": [
    "#### Summer"
   ]
  },
  {
   "cell_type": "code",
   "execution_count": 19,
   "metadata": {},
   "outputs": [
    {
     "data": {
      "text/plain": [
       "0.6421652725128252"
      ]
     },
     "execution_count": 19,
     "metadata": {},
     "output_type": "execute_result"
    }
   ],
   "source": [
    "#SCR[8640:26112]\n",
    "(sum(df_surplus50[8640:26112][\"Gres\"])-sum(df_surplus50[8640:26112][\"surplus\"]))/sum(df_surplus50[8640:26112][\"Gres\"])"
   ]
  },
  {
   "cell_type": "code",
   "execution_count": 20,
   "metadata": {},
   "outputs": [
    {
     "data": {
      "text/plain": [
       "1.5312656024858715"
      ]
     },
     "execution_count": 20,
     "metadata": {},
     "output_type": "execute_result"
    }
   ],
   "source": [
    "#SSR\n",
    "(sum(df_surplus50[8640:26112][\"Gres\"]) - sum(df_surplus50[8640:26112][\"Gr\"])) / abs(sum(df_surplus50[8640:26112][\"load\"]))"
   ]
  },
  {
   "cell_type": "code",
   "execution_count": 21,
   "metadata": {},
   "outputs": [
    {
     "data": {
      "text/plain": [
       "1.5610825351300872"
      ]
     },
     "execution_count": 21,
     "metadata": {},
     "output_type": "execute_result"
    }
   ],
   "source": [
    "#PDR\n",
    "sum(df_surplus50[8640:26112][\"Gres\"]) / abs(sum(df_surplus50[8640:26112][\"load\"]))"
   ]
  },
  {
   "cell_type": "markdown",
   "metadata": {},
   "source": [
    "#### Winter"
   ]
  },
  {
   "cell_type": "code",
   "execution_count": 22,
   "metadata": {},
   "outputs": [],
   "source": [
    "winter = pd.concat([df_surplus50[:8640],df_surplus50[26112:]])"
   ]
  },
  {
   "cell_type": "code",
   "execution_count": 23,
   "metadata": {},
   "outputs": [
    {
     "data": {
      "text/plain": [
       "0.9614103712914032"
      ]
     },
     "execution_count": 23,
     "metadata": {},
     "output_type": "execute_result"
    }
   ],
   "source": [
    "#SCR\n",
    "(sum(winter[8640:26112][\"Gres\"])-sum(winter[8640:26112][\"surplus\"]))/sum(winter[8640:26112][\"Gres\"])"
   ]
  },
  {
   "cell_type": "code",
   "execution_count": 24,
   "metadata": {},
   "outputs": [
    {
     "data": {
      "text/plain": [
       "0.4135238830722723"
      ]
     },
     "execution_count": 24,
     "metadata": {},
     "output_type": "execute_result"
    }
   ],
   "source": [
    "#SSR\n",
    "(sum(winter[\"Gres\"]) - sum(winter[\"Gr\"])) / abs(sum(winter[\"load\"]))"
   ]
  },
  {
   "cell_type": "code",
   "execution_count": 25,
   "metadata": {},
   "outputs": [
    {
     "data": {
      "text/plain": [
       "0.7416116650068686"
      ]
     },
     "execution_count": 25,
     "metadata": {},
     "output_type": "execute_result"
    }
   ],
   "source": [
    "#PDR\n",
    "sum(winter[\"Gres\"]) / abs(sum(winter[\"load\"]))"
   ]
  },
  {
   "cell_type": "markdown",
   "metadata": {},
   "source": [
    "### 75 BESS"
   ]
  },
  {
   "cell_type": "code",
   "execution_count": 26,
   "metadata": {},
   "outputs": [],
   "source": [
    "df1 = pd.read_csv(r\"C:\\Users\\Janwe\\OneDrive\\Desktop\\Bachelor_Arbeit\\Direct Load Control Model\\Data\\MILP solutions\\upperBenchmark\\1_upperBenchmark_75b.csv\")\n",
    "df2 = pd.read_csv(r\"C:\\Users\\Janwe\\OneDrive\\Desktop\\Bachelor_Arbeit\\Direct Load Control Model\\Data\\MILP solutions\\upperBenchmark\\2_upperBenchmark_75b.csv\")\n",
    "df3 = pd.read_csv(r\"C:\\Users\\Janwe\\OneDrive\\Desktop\\Bachelor_Arbeit\\Direct Load Control Model\\Data\\MILP solutions\\upperBenchmark\\3_upperBenchmark_75b.csv\")\n",
    "df4 = pd.read_csv(r\"C:\\Users\\Janwe\\OneDrive\\Desktop\\Bachelor_Arbeit\\Direct Load Control Model\\Data\\MILP solutions\\upperBenchmark\\4_upperBenchmark_75b.csv\")\n",
    "frames = [df1,df2,df3,df4]\n",
    "df_bench75 = pd.concat(frames)\n",
    "df_bench75.reset_index(drop=True, inplace=True)"
   ]
  },
  {
   "cell_type": "code",
   "execution_count": 27,
   "metadata": {},
   "outputs": [
    {
     "name": "stderr",
     "output_type": "stream",
     "text": [
      "C:\\Users\\Janwe\\anaconda3\\envs\\condaPython3\\lib\\site-packages\\ipykernel_launcher.py:6: SettingWithCopyWarning: \n",
      "A value is trying to be set on a copy of a slice from a DataFrame\n",
      "\n",
      "See the caveats in the documentation: https://pandas.pydata.org/pandas-docs/stable/user_guide/indexing.html#returning-a-view-versus-a-copy\n",
      "  \n"
     ]
    }
   ],
   "source": [
    "df_surplus75 = surplus(df_bench75)"
   ]
  },
  {
   "cell_type": "code",
   "execution_count": 28,
   "metadata": {},
   "outputs": [
    {
     "data": {
      "text/plain": [
       "0.7573798542393898"
      ]
     },
     "execution_count": 28,
     "metadata": {},
     "output_type": "execute_result"
    }
   ],
   "source": [
    "#SCR\n",
    "(sum(df_surplus75[\"Gres\"])-sum(df_surplus75[\"surplus\"]))/sum(df_surplus75[\"Gres\"])"
   ]
  },
  {
   "cell_type": "code",
   "execution_count": 29,
   "metadata": {},
   "outputs": [
    {
     "data": {
      "text/plain": [
       "0.9151850669811245"
      ]
     },
     "execution_count": 29,
     "metadata": {},
     "output_type": "execute_result"
    }
   ],
   "source": [
    "#SSR\n",
    "(sum(df_surplus75[\"Gres\"]) - sum(df_surplus75[\"Gr\"])) / abs(sum(df_surplus75[\"load\"]))"
   ]
  },
  {
   "cell_type": "code",
   "execution_count": 30,
   "metadata": {},
   "outputs": [
    {
     "data": {
      "text/plain": [
       "1.102821582404079"
      ]
     },
     "execution_count": 30,
     "metadata": {},
     "output_type": "execute_result"
    }
   ],
   "source": [
    "#PDR\n",
    "sum(df_surplus75[\"Gres\"]) / abs(sum(df_surplus75[\"load\"]))"
   ]
  },
  {
   "cell_type": "markdown",
   "metadata": {},
   "source": [
    "### 100 BESS"
   ]
  },
  {
   "cell_type": "code",
   "execution_count": 31,
   "metadata": {},
   "outputs": [],
   "source": [
    "df1 = pd.read_csv(r\"C:\\Users\\Janwe\\OneDrive\\Desktop\\Bachelor_Arbeit\\Direct Load Control Model\\Data\\MILP solutions\\upperBenchmark\\1_upperBenchmark_100b.csv\")\n",
    "df2 = pd.read_csv(r\"C:\\Users\\Janwe\\OneDrive\\Desktop\\Bachelor_Arbeit\\Direct Load Control Model\\Data\\MILP solutions\\upperBenchmark\\2_upperBenchmark_100b.csv\")\n",
    "df3 = pd.read_csv(r\"C:\\Users\\Janwe\\OneDrive\\Desktop\\Bachelor_Arbeit\\Direct Load Control Model\\Data\\MILP solutions\\upperBenchmark\\3_upperBenchmark_100b.csv\")\n",
    "df4 = pd.read_csv(r\"C:\\Users\\Janwe\\OneDrive\\Desktop\\Bachelor_Arbeit\\Direct Load Control Model\\Data\\MILP solutions\\upperBenchmark\\4_upperBenchmark_100b.csv\")\n",
    "frames = [df1,df2,df3,df4]\n",
    "df_bench100 = pd.concat(frames)\n",
    "df_bench100.reset_index(drop=True, inplace=True)"
   ]
  },
  {
   "cell_type": "code",
   "execution_count": 32,
   "metadata": {},
   "outputs": [
    {
     "name": "stderr",
     "output_type": "stream",
     "text": [
      "C:\\Users\\Janwe\\anaconda3\\envs\\condaPython3\\lib\\site-packages\\ipykernel_launcher.py:6: SettingWithCopyWarning: \n",
      "A value is trying to be set on a copy of a slice from a DataFrame\n",
      "\n",
      "See the caveats in the documentation: https://pandas.pydata.org/pandas-docs/stable/user_guide/indexing.html#returning-a-view-versus-a-copy\n",
      "  \n"
     ]
    }
   ],
   "source": [
    "df_surplus100 = surplus(df_bench100)"
   ]
  },
  {
   "cell_type": "code",
   "execution_count": 33,
   "metadata": {},
   "outputs": [
    {
     "data": {
      "text/plain": [
       "0.7618291626276577"
      ]
     },
     "execution_count": 33,
     "metadata": {},
     "output_type": "execute_result"
    }
   ],
   "source": [
    "#SCR\n",
    "(sum(df_surplus100[\"Gres\"]) - sum(df_surplus100[\"surplus\"]))/ sum(df_surplus100[\"Gres\"])"
   ]
  },
  {
   "cell_type": "code",
   "execution_count": 34,
   "metadata": {},
   "outputs": [
    {
     "data": {
      "text/plain": [
       "0.919601180809191"
      ]
     },
     "execution_count": 34,
     "metadata": {},
     "output_type": "execute_result"
    }
   ],
   "source": [
    "#SSR\n",
    "(sum(df_surplus100[\"Gres\"]) - sum(df_surplus100[\"Gr\"])) / abs(sum(df_surplus100[\"load\"]))"
   ]
  },
  {
   "cell_type": "code",
   "execution_count": 35,
   "metadata": {},
   "outputs": [
    {
     "data": {
      "text/plain": [
       "1.1028215824040855"
      ]
     },
     "execution_count": 35,
     "metadata": {},
     "output_type": "execute_result"
    }
   ],
   "source": [
    "sum(df_surplus100[\"Gres\"]) / abs(sum(df_surplus100[\"load\"]))"
   ]
  },
  {
   "cell_type": "markdown",
   "metadata": {},
   "source": [
    "## Half benchmark "
   ]
  },
  {
   "cell_type": "code",
   "execution_count": 36,
   "metadata": {},
   "outputs": [],
   "source": [
    "df1 = pd.read_csv(r\"C:\\Users\\Janwe\\OneDrive\\Desktop\\Bachelor_Arbeit\\Direct Load Control Model\\Data\\MILP solutions\\HalfBench/1_benchmarkHalf_0b.csv\")\n",
    "df2 = pd.read_csv(r\"C:\\Users\\Janwe\\OneDrive\\Desktop\\Bachelor_Arbeit\\Direct Load Control Model\\Data\\MILP solutions\\HalfBench/2_benchmarkHalf_0b.csv\")\n",
    "df3 = pd.read_csv(r\"C:\\Users\\Janwe\\OneDrive\\Desktop\\Bachelor_Arbeit\\Direct Load Control Model\\Data\\MILP solutions\\HalfBench/3_benchmarkHalf_0b.csv\")\n",
    "df4 = pd.read_csv(r\"C:\\Users\\Janwe\\OneDrive\\Desktop\\Bachelor_Arbeit\\Direct Load Control Model\\Data\\MILP solutions\\HalfBench/4_benchmarkHalf_0b.csv\")\n",
    "frames = [df1,df2,df3,df4]\n",
    "df_halfBench0 = pd.concat(frames)\n",
    "df_halfBench0.reset_index(drop=True, inplace=True)"
   ]
  },
  {
   "cell_type": "code",
   "execution_count": 37,
   "metadata": {},
   "outputs": [
    {
     "name": "stderr",
     "output_type": "stream",
     "text": [
      "C:\\Users\\Janwe\\anaconda3\\envs\\condaPython3\\lib\\site-packages\\ipykernel_launcher.py:6: SettingWithCopyWarning: \n",
      "A value is trying to be set on a copy of a slice from a DataFrame\n",
      "\n",
      "See the caveats in the documentation: https://pandas.pydata.org/pandas-docs/stable/user_guide/indexing.html#returning-a-view-versus-a-copy\n",
      "  \n"
     ]
    }
   ],
   "source": [
    "df_halfBench_surplus0 = surplus(df_halfBench0)"
   ]
  },
  {
   "cell_type": "code",
   "execution_count": 38,
   "metadata": {},
   "outputs": [
    {
     "data": {
      "text/plain": [
       "0.801968763945718"
      ]
     },
     "execution_count": 38,
     "metadata": {},
     "output_type": "execute_result"
    }
   ],
   "source": [
    "#SCR\n",
    "(sum(df_halfBench_surplus0[\"Gres\"])-sum(df_halfBench_surplus0[\"surplus\"]))/sum(df_halfBench_surplus0[\"Gres\"])"
   ]
  },
  {
   "cell_type": "code",
   "execution_count": 39,
   "metadata": {},
   "outputs": [
    {
     "data": {
      "text/plain": [
       "-0.006374978156785894"
      ]
     },
     "execution_count": 39,
     "metadata": {},
     "output_type": "execute_result"
    }
   ],
   "source": [
    "#SSR\n",
    "(sum(df_halfBench_surplus0[\"Gres\"]) - sum(df_halfBench_surplus0[\"Gr\"])) / abs(sum(df_halfBench_surplus0[\"load\"]))"
   ]
  },
  {
   "cell_type": "code",
   "execution_count": 40,
   "metadata": {},
   "outputs": [
    {
     "data": {
      "text/plain": [
       "0.23380589414730166"
      ]
     },
     "execution_count": 40,
     "metadata": {},
     "output_type": "execute_result"
    }
   ],
   "source": [
    "0.4445055262215199 - 0.21069963207421824"
   ]
  },
  {
   "cell_type": "code",
   "execution_count": 41,
   "metadata": {},
   "outputs": [
    {
     "data": {
      "text/plain": [
       "0.5514107912020366"
      ]
     },
     "execution_count": 41,
     "metadata": {},
     "output_type": "execute_result"
    }
   ],
   "source": [
    "#PDR\n",
    "sum(df_halfBench_surplus0[\"Gres\"]) / abs(sum(df_halfBench_surplus0[\"load\"]))"
   ]
  },
  {
   "cell_type": "code",
   "execution_count": 42,
   "metadata": {},
   "outputs": [],
   "source": [
    "df1 = pd.read_csv(r\"C:\\Users\\Janwe\\OneDrive\\Desktop\\Bachelor_Arbeit\\Direct Load Control Model\\Data\\MILP solutions\\HalfBench/1_benchmarkHalf_25b.csv\")\n",
    "df2 = pd.read_csv(r\"C:\\Users\\Janwe\\OneDrive\\Desktop\\Bachelor_Arbeit\\Direct Load Control Model\\Data\\MILP solutions\\HalfBench/2_benchmarkHalf_25b.csv\")\n",
    "df3 = pd.read_csv(r\"C:\\Users\\Janwe\\OneDrive\\Desktop\\Bachelor_Arbeit\\Direct Load Control Model\\Data\\MILP solutions\\HalfBench/3_benchmarkHalf_25b.csv\")\n",
    "df4 = pd.read_csv(r\"C:\\Users\\Janwe\\OneDrive\\Desktop\\Bachelor_Arbeit\\Direct Load Control Model\\Data\\MILP solutions\\HalfBench/4_benchmarkHalf_25b.csv\")\n",
    "frames = [df1,df2,df3,df4]\n",
    "df_halfBench25 = pd.concat(frames)\n",
    "df_halfBench25.reset_index(drop=True, inplace=True)"
   ]
  },
  {
   "cell_type": "code",
   "execution_count": 43,
   "metadata": {},
   "outputs": [
    {
     "name": "stderr",
     "output_type": "stream",
     "text": [
      "C:\\Users\\Janwe\\anaconda3\\envs\\condaPython3\\lib\\site-packages\\ipykernel_launcher.py:6: SettingWithCopyWarning: \n",
      "A value is trying to be set on a copy of a slice from a DataFrame\n",
      "\n",
      "See the caveats in the documentation: https://pandas.pydata.org/pandas-docs/stable/user_guide/indexing.html#returning-a-view-versus-a-copy\n",
      "  \n"
     ]
    }
   ],
   "source": [
    "df_halfBench_surplus25 = surplus(df_halfBench25)"
   ]
  },
  {
   "cell_type": "code",
   "execution_count": 44,
   "metadata": {},
   "outputs": [
    {
     "data": {
      "text/plain": [
       "0.9581854667415155"
      ]
     },
     "execution_count": 44,
     "metadata": {},
     "output_type": "execute_result"
    }
   ],
   "source": [
    "#SCR\n",
    "(sum(df_halfBench_surplus25[\"Gres\"])-sum(df_halfBench_surplus25[\"surplus\"]))/sum(df_halfBench_surplus25[\"Gres\"])"
   ]
  },
  {
   "cell_type": "code",
   "execution_count": 45,
   "metadata": {},
   "outputs": [
    {
     "data": {
      "text/plain": [
       "0.07135672506415233"
      ]
     },
     "execution_count": 45,
     "metadata": {},
     "output_type": "execute_result"
    }
   ],
   "source": [
    "#SSR\n",
    "(sum(df_halfBench_surplus25[\"Gres\"]) - sum(df_halfBench_surplus25[\"Gr\"])) / abs(sum(df_halfBench_surplus25[\"load\"]))"
   ]
  },
  {
   "cell_type": "code",
   "execution_count": 46,
   "metadata": {},
   "outputs": [
    {
     "data": {
      "text/plain": [
       "0.5514107912020435"
      ]
     },
     "execution_count": 46,
     "metadata": {},
     "output_type": "execute_result"
    }
   ],
   "source": [
    "#PDR\n",
    "sum(df_halfBench_surplus25[\"Gres\"]) / abs(sum(df_halfBench_surplus25[\"load\"]))"
   ]
  },
  {
   "cell_type": "code",
   "execution_count": 47,
   "metadata": {},
   "outputs": [],
   "source": [
    "df1 = pd.read_csv(r\"C:\\Users\\Janwe\\OneDrive\\Desktop\\Bachelor_Arbeit\\Direct Load Control Model\\Data\\MILP solutions\\HalfBench/1_benchmarkHalf_50b.csv\")\n",
    "df2 = pd.read_csv(r\"C:\\Users\\Janwe\\OneDrive\\Desktop\\Bachelor_Arbeit\\Direct Load Control Model\\Data\\MILP solutions\\HalfBench/2_benchmarkHalf_50b.csv\")\n",
    "df3 = pd.read_csv(r\"C:\\Users\\Janwe\\OneDrive\\Desktop\\Bachelor_Arbeit\\Direct Load Control Model\\Data\\MILP solutions\\HalfBench/3_benchmarkHalf_50b.csv\")\n",
    "df4 = pd.read_csv(r\"C:\\Users\\Janwe\\OneDrive\\Desktop\\Bachelor_Arbeit\\Direct Load Control Model\\Data\\MILP solutions\\HalfBench/4_benchmarkHalf_50b.csv\")\n",
    "frames = [df1,df2,df3,df4]\n",
    "df_halfBench50 = pd.concat(frames)\n",
    "df_halfBench50.reset_index(drop=True, inplace=True)"
   ]
  },
  {
   "cell_type": "code",
   "execution_count": 48,
   "metadata": {},
   "outputs": [
    {
     "name": "stderr",
     "output_type": "stream",
     "text": [
      "C:\\Users\\Janwe\\anaconda3\\envs\\condaPython3\\lib\\site-packages\\ipykernel_launcher.py:6: SettingWithCopyWarning: \n",
      "A value is trying to be set on a copy of a slice from a DataFrame\n",
      "\n",
      "See the caveats in the documentation: https://pandas.pydata.org/pandas-docs/stable/user_guide/indexing.html#returning-a-view-versus-a-copy\n",
      "  \n"
     ]
    }
   ],
   "source": [
    "df_halfBench_surplus50 = surplus(df_halfBench50)"
   ]
  },
  {
   "cell_type": "code",
   "execution_count": 49,
   "metadata": {},
   "outputs": [
    {
     "data": {
      "text/plain": [
       "0.9949385918806344"
      ]
     },
     "execution_count": 49,
     "metadata": {},
     "output_type": "execute_result"
    }
   ],
   "source": [
    "#SCR\n",
    "(sum(df_halfBench_surplus50[\"Gres\"])-sum(df_halfBench_surplus50[\"surplus\"]))/sum(df_halfBench_surplus50[\"Gres\"])"
   ]
  },
  {
   "cell_type": "code",
   "execution_count": 50,
   "metadata": {},
   "outputs": [
    {
     "data": {
      "text/plain": [
       "0.08963716136692322"
      ]
     },
     "execution_count": 50,
     "metadata": {},
     "output_type": "execute_result"
    }
   ],
   "source": [
    "#SSR\n",
    "(sum(df_halfBench_surplus50[\"Gres\"]) - sum(df_halfBench_surplus50[\"Gr\"])) / abs(sum(df_halfBench_surplus50[\"load\"]))"
   ]
  },
  {
   "cell_type": "code",
   "execution_count": 51,
   "metadata": {},
   "outputs": [],
   "source": [
    "df1 = pd.read_csv(r\"C:\\Users\\Janwe\\OneDrive\\Desktop\\Bachelor_Arbeit\\Direct Load Control Model\\Data\\MILP solutions\\HalfBench/1_benchmarkHalf_100b.csv\")\n",
    "df2 = pd.read_csv(r\"C:\\Users\\Janwe\\OneDrive\\Desktop\\Bachelor_Arbeit\\Direct Load Control Model\\Data\\MILP solutions\\HalfBench/2_benchmarkHalf_100b.csv\")\n",
    "df3 = pd.read_csv(r\"C:\\Users\\Janwe\\OneDrive\\Desktop\\Bachelor_Arbeit\\Direct Load Control Model\\Data\\MILP solutions\\HalfBench/3_benchmarkHalf_100b.csv\")\n",
    "df4 = pd.read_csv(r\"C:\\Users\\Janwe\\OneDrive\\Desktop\\Bachelor_Arbeit\\Direct Load Control Model\\Data\\MILP solutions\\HalfBench/4_benchmarkHalf_100b.csv\")\n",
    "frames = [df1,df2,df3,df4]\n",
    "df_halfBench100 = pd.concat(frames)\n",
    "df_halfBench100.reset_index(drop=True, inplace=True)"
   ]
  },
  {
   "cell_type": "code",
   "execution_count": 52,
   "metadata": {},
   "outputs": [
    {
     "name": "stderr",
     "output_type": "stream",
     "text": [
      "C:\\Users\\Janwe\\anaconda3\\envs\\condaPython3\\lib\\site-packages\\ipykernel_launcher.py:6: SettingWithCopyWarning: \n",
      "A value is trying to be set on a copy of a slice from a DataFrame\n",
      "\n",
      "See the caveats in the documentation: https://pandas.pydata.org/pandas-docs/stable/user_guide/indexing.html#returning-a-view-versus-a-copy\n",
      "  \n"
     ]
    }
   ],
   "source": [
    "df_halfBench_surplus100 = surplus(df_halfBench100)"
   ]
  },
  {
   "cell_type": "code",
   "execution_count": 53,
   "metadata": {},
   "outputs": [
    {
     "data": {
      "text/plain": [
       "0.9970920419273508"
      ]
     },
     "execution_count": 53,
     "metadata": {},
     "output_type": "execute_result"
    }
   ],
   "source": [
    "#SCR\n",
    "(sum(df_halfBench_surplus100[\"Gres\"])-sum(df_halfBench_surplus100[\"surplus\"]))/sum(df_halfBench_surplus100[\"Gres\"])"
   ]
  },
  {
   "cell_type": "code",
   "execution_count": 54,
   "metadata": {},
   "outputs": [
    {
     "data": {
      "text/plain": [
       "0.09070654098093014"
      ]
     },
     "execution_count": 54,
     "metadata": {},
     "output_type": "execute_result"
    }
   ],
   "source": [
    "#SSR\n",
    "(sum(df_halfBench_surplus100[\"Gres\"]) - sum(df_halfBench_surplus100[\"Gr\"])) / abs(sum(df_halfBench_surplus100[\"load\"]))"
   ]
  },
  {
   "cell_type": "code",
   "execution_count": null,
   "metadata": {},
   "outputs": [],
   "source": []
  }
 ],
 "metadata": {
  "kernelspec": {
   "display_name": "Python 3",
   "language": "python",
   "name": "python3"
  },
  "language_info": {
   "codemirror_mode": {
    "name": "ipython",
    "version": 3
   },
   "file_extension": ".py",
   "mimetype": "text/x-python",
   "name": "python",
   "nbconvert_exporter": "python",
   "pygments_lexer": "ipython3",
   "version": "3.7.7"
  }
 },
 "nbformat": 4,
 "nbformat_minor": 4
}
