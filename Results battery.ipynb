{
 "cells": [
  {
   "cell_type": "code",
   "execution_count": 1,
   "metadata": {},
   "outputs": [],
   "source": [
    "import pandas as pd\n",
    "import numpy as np\n",
    "import matplotlib.pyplot as plt\n",
    "import seaborn as sns\n",
    "from datetime import datetime\n",
    "import os\n",
    "import datetime\n",
    "%matplotlib inline\n",
    "plt.style.use('ggplot')\n",
    "pd.options.display.float_format = '{:.6f}'.format"
   ]
  },
  {
   "cell_type": "markdown",
   "metadata": {},
   "source": [
    "# Scenario 1 <br>\n",
    "\n",
    "## The full RE potential is exploited\n",
    "\n",
    "\n",
    "#### Every household is equiped with a 7kWh Energy Storage System "
   ]
  },
  {
   "cell_type": "code",
   "execution_count": 2,
   "metadata": {},
   "outputs": [],
   "source": [
    "df1 = pd.read_csv(r\"C:\\Users\\Janwe\\OneDrive\\Desktop\\Bachelor_Arbeit\\Direct Load Control Model\\Data\\MILP solutions\\upperBenchmark\\1_upperBenchmark_100b.csv\")\n",
    "df2 = pd.read_csv(r\"C:\\Users\\Janwe\\OneDrive\\Desktop\\Bachelor_Arbeit\\Direct Load Control Model\\Data\\MILP solutions\\upperBenchmark\\2_upperBenchmark_100b.csv\")\n",
    "df3 = pd.read_csv(r\"C:\\Users\\Janwe\\OneDrive\\Desktop\\Bachelor_Arbeit\\Direct Load Control Model\\Data\\MILP solutions\\upperBenchmark\\3_upperBenchmark_100b.csv\")\n",
    "df4 = pd.read_csv(r\"C:\\Users\\Janwe\\OneDrive\\Desktop\\Bachelor_Arbeit\\Direct Load Control Model\\Data\\MILP solutions\\upperBenchmark\\4_upperBenchmark_100b.csv\")\n",
    "frames = [df1,df2,df3,df4]\n",
    "df_100 = pd.concat(frames)\n",
    "df_100.reset_index(drop=True, inplace=True)"
   ]
  },
  {
   "cell_type": "markdown",
   "metadata": {},
   "source": [
    "#### 75% of all households are equiped with a 7kWh Energy Storage System"
   ]
  },
  {
   "cell_type": "code",
   "execution_count": 3,
   "metadata": {
    "scrolled": false
   },
   "outputs": [],
   "source": [
    "df1 = pd.read_csv(r\"C:\\Users\\Janwe\\OneDrive\\Desktop\\Bachelor_Arbeit\\Direct Load Control Model\\Data\\MILP solutions\\upperBenchmark\\1_upperBenchmark_75b.csv\")\n",
    "df2 = pd.read_csv(r\"C:\\Users\\Janwe\\OneDrive\\Desktop\\Bachelor_Arbeit\\Direct Load Control Model\\Data\\MILP solutions\\upperBenchmark\\2_upperBenchmark_75b.csv\")\n",
    "df3 = pd.read_csv(r\"C:\\Users\\Janwe\\OneDrive\\Desktop\\Bachelor_Arbeit\\Direct Load Control Model\\Data\\MILP solutions\\upperBenchmark\\3_upperBenchmark_75b.csv\")\n",
    "df4 = pd.read_csv(r\"C:\\Users\\Janwe\\OneDrive\\Desktop\\Bachelor_Arbeit\\Direct Load Control Model\\Data\\MILP solutions\\upperBenchmark\\4_upperBenchmark_75b.csv\")\n",
    "frames = [df1,df2,df3,df4]\n",
    "df_75 = pd.concat(frames)\n",
    "df_75.reset_index(drop=True, inplace=True)"
   ]
  },
  {
   "cell_type": "markdown",
   "metadata": {},
   "source": [
    "#### 50% of all Households are equiped with a 7kWh Energy Storage System"
   ]
  },
  {
   "cell_type": "code",
   "execution_count": 4,
   "metadata": {},
   "outputs": [],
   "source": [
    "df1 = pd.read_csv(r\"C:\\Users\\Janwe\\OneDrive\\Desktop\\Bachelor_Arbeit\\Direct Load Control Model\\Data\\MILP solutions\\upperBenchmark\\1_upperBenchmark_50b.csv\")\n",
    "df2 = pd.read_csv(r\"C:\\Users\\Janwe\\OneDrive\\Desktop\\Bachelor_Arbeit\\Direct Load Control Model\\Data\\MILP solutions\\upperBenchmark\\2_upperBenchmark_50b.csv\")\n",
    "df3 = pd.read_csv(r\"C:\\Users\\Janwe\\OneDrive\\Desktop\\Bachelor_Arbeit\\Direct Load Control Model\\Data\\MILP solutions\\upperBenchmark\\3_upperBenchmark_50b.csv\")\n",
    "df4 = pd.read_csv(r\"C:\\Users\\Janwe\\OneDrive\\Desktop\\Bachelor_Arbeit\\Direct Load Control Model\\Data\\MILP solutions\\upperBenchmark\\4_upperBenchmark_50b.csv\")\n",
    "frames = [df1,df2,df3,df4]\n",
    "df_50 = pd.concat(frames)\n",
    "df_50.reset_index(drop=True, inplace=True)"
   ]
  },
  {
   "cell_type": "markdown",
   "metadata": {},
   "source": [
    "#### 25% Penetration of Energy Storage Systems"
   ]
  },
  {
   "cell_type": "code",
   "execution_count": 5,
   "metadata": {},
   "outputs": [],
   "source": [
    "df1 = pd.read_csv(r\"C:\\Users\\Janwe\\OneDrive\\Desktop\\Bachelor_Arbeit\\Direct Load Control Model\\Data\\MILP solutions\\upperBenchmark\\1_upperBenchmark_25b.csv\")\n",
    "df2 = pd.read_csv(r\"C:\\Users\\Janwe\\OneDrive\\Desktop\\Bachelor_Arbeit\\Direct Load Control Model\\Data\\MILP solutions\\upperBenchmark\\2_upperBenchmark_25b.csv\")\n",
    "df3 = pd.read_csv(r\"C:\\Users\\Janwe\\OneDrive\\Desktop\\Bachelor_Arbeit\\Direct Load Control Model\\Data\\MILP solutions\\upperBenchmark\\3_upperBenchmark_25b.csv\")\n",
    "df4 = pd.read_csv(r\"C:\\Users\\Janwe\\OneDrive\\Desktop\\Bachelor_Arbeit\\Direct Load Control Model\\Data\\MILP solutions\\upperBenchmark\\4_upperBenchmark_25b.csv\")\n",
    "frames = [df1,df2,df3,df4]\n",
    "df_25 = pd.concat(frames)\n",
    "df_25.reset_index(drop=True, inplace=True)"
   ]
  },
  {
   "cell_type": "markdown",
   "metadata": {},
   "source": [
    "#### no batteries "
   ]
  },
  {
   "cell_type": "code",
   "execution_count": 6,
   "metadata": {},
   "outputs": [],
   "source": [
    "df1 = pd.read_csv(r\"C:\\Users\\Janwe\\OneDrive\\Desktop\\Bachelor_Arbeit\\Direct Load Control Model\\Data\\MILP solutions\\upperBenchmark\\1_upperBenchmark_0b.csv\")\n",
    "df2 = pd.read_csv(r\"C:\\Users\\Janwe\\OneDrive\\Desktop\\Bachelor_Arbeit\\Direct Load Control Model\\Data\\MILP solutions\\upperBenchmark\\2_upperBenchmark_0b.csv\")\n",
    "df3 = pd.read_csv(r\"C:\\Users\\Janwe\\OneDrive\\Desktop\\Bachelor_Arbeit\\Direct Load Control Model\\Data\\MILP solutions\\upperBenchmark\\3_upperBenchmark_0b.csv\")\n",
    "df4 = pd.read_csv(r\"C:\\Users\\Janwe\\OneDrive\\Desktop\\Bachelor_Arbeit\\Direct Load Control Model\\Data\\MILP solutions\\upperBenchmark\\4_upperBenchmark_0b.csv\")\n",
    "frames = [df1,df2,df3,df4]\n",
    "df_0 = pd.concat(frames)\n",
    "df_0.reset_index(drop=True, inplace=True)"
   ]
  },
  {
   "cell_type": "code",
   "execution_count": 7,
   "metadata": {},
   "outputs": [],
   "source": [
    "sumGr0 = sum(df_0[\"Gr\"])\n",
    "sumGr25 = sum(df_25[\"Gr\"])\n",
    "sumGr50 = sum(df_50[\"Gr\"])\n",
    "sumGr75 = sum(df_75[\"Gr\"])\n",
    "sumGr100= sum(df_100[\"Gr\"])"
   ]
  },
  {
   "cell_type": "markdown",
   "metadata": {},
   "source": [
    "# Scenario 2\n",
    "\n",
    "# 50% of the RE potenital are exploited"
   ]
  },
  {
   "cell_type": "code",
   "execution_count": 8,
   "metadata": {},
   "outputs": [],
   "source": [
    "df1 = pd.read_csv(r\"C:\\Users\\Janwe\\OneDrive\\Desktop\\Bachelor_Arbeit\\Direct Load Control Model\\Data\\MILP solutions\\HalfBench\\1_benchmarkHalf_100b.csv\")\n",
    "df2 = pd.read_csv(r\"C:\\Users\\Janwe\\OneDrive\\Desktop\\Bachelor_Arbeit\\Direct Load Control Model\\Data\\MILP solutions\\HalfBench\\2_benchmarkHalf_100b.csv\")\n",
    "df3 = pd.read_csv(r\"C:\\Users\\Janwe\\OneDrive\\Desktop\\Bachelor_Arbeit\\Direct Load Control Model\\Data\\MILP solutions\\HalfBench\\3_benchmarkHalf_100b.csv\")\n",
    "df4 = pd.read_csv(r\"C:\\Users\\Janwe\\OneDrive\\Desktop\\Bachelor_Arbeit\\Direct Load Control Model\\Data\\MILP solutions\\HalfBench\\4_benchmarkHalf_100b.csv\")\n",
    "frames = [df1,df2,df3,df4]\n",
    "df_100_2 = pd.concat(frames)\n",
    "df_100_2.reset_index(drop=True, inplace=True)"
   ]
  },
  {
   "cell_type": "code",
   "execution_count": 9,
   "metadata": {},
   "outputs": [],
   "source": [
    "df1 = pd.read_csv(r\"C:\\Users\\Janwe\\OneDrive\\Desktop\\Bachelor_Arbeit\\Direct Load Control Model\\Data\\MILP solutions\\HalfBench\\1_benchmarkHalf_75b.csv\")\n",
    "df2 = pd.read_csv(r\"C:\\Users\\Janwe\\OneDrive\\Desktop\\Bachelor_Arbeit\\Direct Load Control Model\\Data\\MILP solutions\\HalfBench\\2_benchmarkHalf_75b.csv\")\n",
    "df3 = pd.read_csv(r\"C:\\Users\\Janwe\\OneDrive\\Desktop\\Bachelor_Arbeit\\Direct Load Control Model\\Data\\MILP solutions\\HalfBench\\3_benchmarkHalf_75b.csv\")\n",
    "df4 = pd.read_csv(r\"C:\\Users\\Janwe\\OneDrive\\Desktop\\Bachelor_Arbeit\\Direct Load Control Model\\Data\\MILP solutions\\HalfBench\\4_benchmarkHalf_75b.csv\")\n",
    "frames = [df1,df2,df3,df4]\n",
    "df_75_2 = pd.concat(frames)\n",
    "df_75_2.reset_index(drop=True, inplace=True)"
   ]
  },
  {
   "cell_type": "code",
   "execution_count": 10,
   "metadata": {},
   "outputs": [],
   "source": [
    "df1 = pd.read_csv(r\"C:\\Users\\Janwe\\OneDrive\\Desktop\\Bachelor_Arbeit\\Direct Load Control Model\\Data\\MILP solutions\\HalfBench\\1_benchmarkHalf_50b.csv\")\n",
    "df2 = pd.read_csv(r\"C:\\Users\\Janwe\\OneDrive\\Desktop\\Bachelor_Arbeit\\Direct Load Control Model\\Data\\MILP solutions\\HalfBench\\2_benchmarkHalf_50b.csv\")\n",
    "df3 = pd.read_csv(r\"C:\\Users\\Janwe\\OneDrive\\Desktop\\Bachelor_Arbeit\\Direct Load Control Model\\Data\\MILP solutions\\HalfBench\\3_benchmarkHalf_50b.csv\")\n",
    "df4 = pd.read_csv(r\"C:\\Users\\Janwe\\OneDrive\\Desktop\\Bachelor_Arbeit\\Direct Load Control Model\\Data\\MILP solutions\\HalfBench\\4_benchmarkHalf_50b.csv\")\n",
    "frames = [df1,df2,df3,df4]\n",
    "df_50_2 = pd.concat(frames)\n",
    "df_50_2.reset_index(drop=True, inplace=True)"
   ]
  },
  {
   "cell_type": "code",
   "execution_count": 11,
   "metadata": {},
   "outputs": [],
   "source": [
    "df1 = pd.read_csv(r\"C:\\Users\\Janwe\\OneDrive\\Desktop\\Bachelor_Arbeit\\Direct Load Control Model\\Data\\MILP solutions\\HalfBench\\1_benchmarkHalf_25b.csv\")\n",
    "df2 = pd.read_csv(r\"C:\\Users\\Janwe\\OneDrive\\Desktop\\Bachelor_Arbeit\\Direct Load Control Model\\Data\\MILP solutions\\HalfBench\\2_benchmarkHalf_25b.csv\")\n",
    "df3 = pd.read_csv(r\"C:\\Users\\Janwe\\OneDrive\\Desktop\\Bachelor_Arbeit\\Direct Load Control Model\\Data\\MILP solutions\\HalfBench\\3_benchmarkHalf_25b.csv\")\n",
    "df4 = pd.read_csv(r\"C:\\Users\\Janwe\\OneDrive\\Desktop\\Bachelor_Arbeit\\Direct Load Control Model\\Data\\MILP solutions\\HalfBench\\4_benchmarkHalf_25b.csv\")\n",
    "frames = [df1,df2,df3,df4]\n",
    "df_25_2 = pd.concat(frames)\n",
    "df_25_2.reset_index(drop=True, inplace=True)"
   ]
  },
  {
   "cell_type": "code",
   "execution_count": 12,
   "metadata": {},
   "outputs": [],
   "source": [
    "df1 = pd.read_csv(r\"C:\\Users\\Janwe\\OneDrive\\Desktop\\Bachelor_Arbeit\\Direct Load Control Model\\Data\\MILP solutions\\HalfBench\\1_benchmarkHalf_0b.csv\")\n",
    "df2 = pd.read_csv(r\"C:\\Users\\Janwe\\OneDrive\\Desktop\\Bachelor_Arbeit\\Direct Load Control Model\\Data\\MILP solutions\\HalfBench/2_benchmarkHalf_0b.csv\")\n",
    "df3 = pd.read_csv(r\"C:\\Users\\Janwe\\OneDrive\\Desktop\\Bachelor_Arbeit\\Direct Load Control Model\\Data\\MILP solutions\\HalfBench/3_benchmarkHalf_0b.csv\")\n",
    "df4 = pd.read_csv(r\"C:\\Users\\Janwe\\OneDrive\\Desktop\\Bachelor_Arbeit\\Direct Load Control Model\\Data\\MILP solutions\\HalfBench/4_benchmarkHalf_0b.csv\")\n",
    "frames = [df1,df2,df3,df4]\n",
    "df_0_2 = pd.concat(frames)\n",
    "df_0_2.reset_index(drop=True, inplace=True)"
   ]
  },
  {
   "cell_type": "code",
   "execution_count": 13,
   "metadata": {},
   "outputs": [
    {
     "data": {
      "text/plain": [
       "0.07163408517103739"
      ]
     },
     "execution_count": 13,
     "metadata": {},
     "output_type": "execute_result"
    }
   ],
   "source": [
    "sum(df_50[\"Gr\"][8640:26112]) / (sum(df_50[\"Gr\"][:8640]) + sum(df_50[\"Gr\"][26112:]))"
   ]
  },
  {
   "cell_type": "code",
   "execution_count": 14,
   "metadata": {},
   "outputs": [
    {
     "data": {
      "text/plain": [
       "19874.985393961542"
      ]
     },
     "execution_count": 14,
     "metadata": {},
     "output_type": "execute_result"
    }
   ],
   "source": [
    "sum(df_50_2[\"Gr\"][8640:26112])"
   ]
  },
  {
   "cell_type": "code",
   "execution_count": 15,
   "metadata": {},
   "outputs": [
    {
     "data": {
      "text/plain": [
       "64371.51087090693"
      ]
     },
     "execution_count": 15,
     "metadata": {},
     "output_type": "execute_result"
    }
   ],
   "source": [
    "sum(df_50_2[\"Gr\"][:8640]) + sum(df_50_2[\"Gr\"][26112:])"
   ]
  },
  {
   "cell_type": "markdown",
   "metadata": {},
   "source": [
    "# Visualization "
   ]
  },
  {
   "cell_type": "code",
   "execution_count": 16,
   "metadata": {},
   "outputs": [],
   "source": [
    "sumGr0_2 = sum(df_0_2[\"Gr\"])\n",
    "sumGr25_2 = sum(df_25_2[\"Gr\"])\n",
    "sumGr50_2 = sum(df_50_2[\"Gr\"])\n",
    "sumGr75_2 = sum(df_75_2[\"Gr\"])\n",
    "sumGr100_2 = sum(df_100_2[\"Gr\"])"
   ]
  },
  {
   "cell_type": "code",
   "execution_count": 17,
   "metadata": {},
   "outputs": [
    {
     "data": {
      "text/html": [
       "<div>\n",
       "<style scoped>\n",
       "    .dataframe tbody tr th:only-of-type {\n",
       "        vertical-align: middle;\n",
       "    }\n",
       "\n",
       "    .dataframe tbody tr th {\n",
       "        vertical-align: top;\n",
       "    }\n",
       "\n",
       "    .dataframe thead th {\n",
       "        text-align: right;\n",
       "    }\n",
       "</style>\n",
       "<table border=\"1\" class=\"dataframe\">\n",
       "  <thead>\n",
       "    <tr style=\"text-align: right;\">\n",
       "      <th></th>\n",
       "      <th>MWh of Fossil Fuels</th>\n",
       "      <th>Cost in €</th>\n",
       "    </tr>\n",
       "    <tr>\n",
       "      <th>Battery Saturation</th>\n",
       "      <th></th>\n",
       "      <th></th>\n",
       "    </tr>\n",
       "  </thead>\n",
       "  <tbody>\n",
       "    <tr>\n",
       "      <th>0</th>\n",
       "      <td>101763.0581</td>\n",
       "      <td>3842573.0749</td>\n",
       "    </tr>\n",
       "    <tr>\n",
       "      <th>25</th>\n",
       "      <td>87581.5995</td>\n",
       "      <td>3307081.1956</td>\n",
       "    </tr>\n",
       "    <tr>\n",
       "      <th>50</th>\n",
       "      <td>84246.4963</td>\n",
       "      <td>3181147.6990</td>\n",
       "    </tr>\n",
       "    <tr>\n",
       "      <th>75</th>\n",
       "      <td>84082.2952</td>\n",
       "      <td>3174947.4672</td>\n",
       "    </tr>\n",
       "    <tr>\n",
       "      <th>100</th>\n",
       "      <td>84051.3975</td>\n",
       "      <td>3173780.7679</td>\n",
       "    </tr>\n",
       "  </tbody>\n",
       "</table>\n",
       "</div>"
      ],
      "text/plain": [
       "                    MWh of Fossil Fuels    Cost in €\n",
       "Battery Saturation                                  \n",
       "0                           101763.0581 3842573.0749\n",
       "25                           87581.5995 3307081.1956\n",
       "50                           84246.4963 3181147.6990\n",
       "75                           84082.2952 3174947.4672\n",
       "100                          84051.3975 3173780.7679"
      ]
     },
     "execution_count": 17,
     "metadata": {},
     "output_type": "execute_result"
    }
   ],
   "source": [
    "df_Scenario2 = pd.DataFrame(columns=[\"MWh of Fossil Fuels\", \"Cost in €\"])\n",
    "df_Scenario2[\"MWh of Fossil Fuels\"] = [sumGr0_2,sumGr25_2,sumGr50_2,sumGr75_2,sumGr100_2]\n",
    "df_Scenario2[\"Battery Saturation\"] = [0,25,50,75,100]\n",
    "df_Scenario2.set_index(\"Battery Saturation\",inplace=True)\n",
    "df_Scenario2[\"Cost in €\"] = df_Scenario2[\"MWh of Fossil Fuels\"]*37.76\n",
    "pd.options.display.float_format = '{:.4f}'.format\n",
    "df_Scenario2"
   ]
  },
  {
   "cell_type": "code",
   "execution_count": 18,
   "metadata": {},
   "outputs": [
    {
     "data": {
      "text/html": [
       "<div>\n",
       "<style scoped>\n",
       "    .dataframe tbody tr th:only-of-type {\n",
       "        vertical-align: middle;\n",
       "    }\n",
       "\n",
       "    .dataframe tbody tr th {\n",
       "        vertical-align: top;\n",
       "    }\n",
       "\n",
       "    .dataframe thead th {\n",
       "        text-align: right;\n",
       "    }\n",
       "</style>\n",
       "<table border=\"1\" class=\"dataframe\">\n",
       "  <thead>\n",
       "    <tr style=\"text-align: right;\">\n",
       "      <th></th>\n",
       "      <th>MWh of Fossil Fuels</th>\n",
       "      <th>Cost in €</th>\n",
       "    </tr>\n",
       "    <tr>\n",
       "      <th>Battery Saturation</th>\n",
       "      <th></th>\n",
       "      <th></th>\n",
       "    </tr>\n",
       "  </thead>\n",
       "  <tbody>\n",
       "    <tr>\n",
       "      <th>0</th>\n",
       "      <td>72000.4199</td>\n",
       "      <td>2718735.8556</td>\n",
       "    </tr>\n",
       "    <tr>\n",
       "      <th>25</th>\n",
       "      <td>45614.3143</td>\n",
       "      <td>1722396.5068</td>\n",
       "    </tr>\n",
       "    <tr>\n",
       "      <th>50</th>\n",
       "      <td>35870.5990</td>\n",
       "      <td>1354473.8189</td>\n",
       "    </tr>\n",
       "    <tr>\n",
       "      <th>75</th>\n",
       "      <td>34232.6152</td>\n",
       "      <td>1292623.5513</td>\n",
       "    </tr>\n",
       "    <tr>\n",
       "      <th>100</th>\n",
       "      <td>33426.9345</td>\n",
       "      <td>1262201.0467</td>\n",
       "    </tr>\n",
       "  </tbody>\n",
       "</table>\n",
       "</div>"
      ],
      "text/plain": [
       "                    MWh of Fossil Fuels    Cost in €\n",
       "Battery Saturation                                  \n",
       "0                            72000.4199 2718735.8556\n",
       "25                           45614.3143 1722396.5068\n",
       "50                           35870.5990 1354473.8189\n",
       "75                           34232.6152 1292623.5513\n",
       "100                          33426.9345 1262201.0467"
      ]
     },
     "execution_count": 18,
     "metadata": {},
     "output_type": "execute_result"
    }
   ],
   "source": [
    "df_Scenario1 = pd.DataFrame(columns=[\"MWh of Fossil Fuels\", \"Cost in €\"])\n",
    "df_Scenario1[\"MWh of Fossil Fuels\"] = [sumGr0,sumGr25,sumGr50,sumGr75,sumGr100]\n",
    "df_Scenario1[\"Battery Saturation\"] = [0,25,50,75,100]\n",
    "df_Scenario1.set_index(\"Battery Saturation\",inplace=True)\n",
    "df_Scenario1[\"Cost in €\"] = df_Scenario1[\"MWh of Fossil Fuels\"]*37.76\n",
    "pd.options.display.float_format = '{:.4f}'.format\n",
    "df_Scenario1"
   ]
  },
  {
   "cell_type": "code",
   "execution_count": 19,
   "metadata": {},
   "outputs": [
    {
     "data": {
      "text/plain": [
       "Text(0, 0.5, 'MWh of conventional generation')"
      ]
     },
     "execution_count": 19,
     "metadata": {},
     "output_type": "execute_result"
    },
    {
     "data": {
      "image/png": "[encoded data removed]",
      "text/plain": [
       "<Figure size 1152x576 with 1 Axes>"
      ]
     },
     "metadata": {},
     "output_type": "display_data"
    }
   ],
   "source": [
    "ax = df_Scenario1.plot(y=\"MWh of Fossil Fuels\", figsize=(14,7), marker='s', markersize=4)\n",
    "df_Scenario2.plot(ax = ax, y=\"MWh of Fossil Fuels\", figsize=(16,8), marker='s', markersize=4)\n",
    "plt.xticks([0,25,50,75,100])\n",
    "ax.legend([\"100% RE potential\", \"50% RE potential\"])\n",
    "ax.set_ylabel(\"MWh of conventional generation\")"
   ]
  },
  {
   "cell_type": "code",
   "execution_count": 20,
   "metadata": {},
   "outputs": [
    {
     "data": {
      "text/plain": [
       "0.2136109115784659"
      ]
     },
     "execution_count": 20,
     "metadata": {},
     "output_type": "execute_result"
    }
   ],
   "source": [
    "1 - sumGr50 / sumGr25  "
   ]
  },
  {
   "cell_type": "code",
   "execution_count": 21,
   "metadata": {},
   "outputs": [
    {
     "data": {
      "text/plain": [
       "0.04030757633708015"
      ]
     },
     "execution_count": 21,
     "metadata": {},
     "output_type": "execute_result"
    }
   ],
   "source": [
    "1 - sumGr100_2 / sumGr25_2"
   ]
  },
  {
   "cell_type": "markdown",
   "metadata": {},
   "source": [
    "### EEG-Umlage beträgt 2019 6,405ct/kWh"
   ]
  },
  {
   "cell_type": "code",
   "execution_count": 22,
   "metadata": {},
   "outputs": [],
   "source": [
    "dfpeak = pd.DataFrame(columns=[\"Penetration\",\"Gr\"])\n",
    "dfpeak[\"Penetration\"] = [0,25,50,75,100]\n",
    "dfpeak[\"Gr\"] = [sum(df_0[\"Gr\"][15330:15395]), sum(df_25[\"Gr\"][15330:15395]),sum(df_50[\"Gr\"][15330:15395]),sum(df_75[\"Gr\"][15330:15395]),sum(df_100[\"Gr\"][15330:15395])]"
   ]
  },
  {
   "cell_type": "code",
   "execution_count": 23,
   "metadata": {},
   "outputs": [
    {
     "data": {
      "text/plain": [
       "<matplotlib.axes._subplots.AxesSubplot at 0x1a7c98ed448>"
      ]
     },
     "execution_count": 23,
     "metadata": {},
     "output_type": "execute_result"
    },
    {
     "data": {
      "image/png": "[encoded data removed]",
      "text/plain": [
       "<Figure size 1008x504 with 1 Axes>"
      ]
     },
     "metadata": {},
     "output_type": "display_data"
    }
   ],
   "source": [
    "dfpeak.plot.bar(y='Gr', x='Penetration',figsize=(14,7))"
   ]
  },
  {
   "cell_type": "markdown",
   "metadata": {},
   "source": [
    "### Comparison of lower and upper benchmark"
   ]
  },
  {
   "cell_type": "code",
   "execution_count": 24,
   "metadata": {},
   "outputs": [],
   "source": [
    "df1 = pd.read_csv(r\"C:\\Users\\Janwe\\OneDrive\\Desktop\\Bachelor_Arbeit\\Direct Load Control Model\\Data\\MILP solutions\\lowerBenchmark/1_lowerBenchmark.csv\")\n",
    "df2 = pd.read_csv(r\"C:\\Users\\Janwe\\OneDrive\\Desktop\\Bachelor_Arbeit\\Direct Load Control Model\\Data\\MILP solutions\\lowerBenchmark/2_lowerBenchmark.csv\")\n",
    "df3 = pd.read_csv(r\"C:\\Users\\Janwe\\OneDrive\\Desktop\\Bachelor_Arbeit\\Direct Load Control Model\\Data\\MILP solutions\\lowerBenchmark/3_lowerBenchmark.csv\")\n",
    "df4 = pd.read_csv(r\"C:\\Users\\Janwe\\OneDrive\\Desktop\\Bachelor_Arbeit\\Direct Load Control Model\\Data\\MILP solutions\\lowerBenchmark/4_lowerBenchmark.csv\")\n",
    "frames = [df1,df2,df3,df4]\n",
    "df_low = pd.concat(frames)\n",
    "df_low.reset_index(drop=True, inplace=True)"
   ]
  },
  {
   "cell_type": "code",
   "execution_count": 25,
   "metadata": {},
   "outputs": [
    {
     "data": {
      "text/plain": [
       "-33425.934500621166"
      ]
     },
     "execution_count": 25,
     "metadata": {},
     "output_type": "execute_result"
    }
   ],
   "source": [
    "1 - sum(df_100[\"Gr\"]) "
   ]
  },
  {
   "cell_type": "code",
   "execution_count": 26,
   "metadata": {},
   "outputs": [
    {
     "data": {
      "text/plain": [
       "148987.85562450704"
      ]
     },
     "execution_count": 26,
     "metadata": {},
     "output_type": "execute_result"
    }
   ],
   "source": [
    "sum(df_low[\"Gr\"]) * 0.8167531564864241"
   ]
  },
  {
   "cell_type": "code",
   "execution_count": 27,
   "metadata": {},
   "outputs": [
    {
     "data": {
      "text/plain": [
       "148987.85562450704"
      ]
     },
     "execution_count": 27,
     "metadata": {},
     "output_type": "execute_result"
    }
   ],
   "source": [
    "(sum(df_low[\"Gr\"]) -  sum(df_100[\"Gr\"]) )"
   ]
  },
  {
   "cell_type": "code",
   "execution_count": 28,
   "metadata": {},
   "outputs": [
    {
     "data": {
      "text/plain": [
       "33426.934500621166"
      ]
     },
     "execution_count": 28,
     "metadata": {},
     "output_type": "execute_result"
    }
   ],
   "source": [
    "sum(df_low[\"Gr\"]) - 148987.85562450704"
   ]
  },
  {
   "cell_type": "code",
   "execution_count": 29,
   "metadata": {},
   "outputs": [
    {
     "data": {
      "text/plain": [
       "1262201.04672"
      ]
     },
     "execution_count": 29,
     "metadata": {},
     "output_type": "execute_result"
    }
   ],
   "source": [
    "33426.934500*37.76"
   ]
  },
  {
   "cell_type": "code",
   "execution_count": null,
   "metadata": {},
   "outputs": [],
   "source": []
  }
 ],
 "metadata": {
  "kernelspec": {
   "display_name": "Python 3",
   "language": "python",
   "name": "python3"
  },
  "language_info": {
   "codemirror_mode": {
    "name": "ipython",
    "version": 3
   },
   "file_extension": ".py",
   "mimetype": "text/x-python",
   "name": "python",
   "nbconvert_exporter": "python",
   "pygments_lexer": "ipython3",
   "version": "3.7.7"
  }
 },
 "nbformat": 4,
 "nbformat_minor": 4
}
