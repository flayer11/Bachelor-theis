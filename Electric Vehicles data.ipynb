{
 "cells": [
  {
   "cell_type": "code",
   "execution_count": 1,
   "metadata": {
    "pycharm": {
     "is_executing": false
    }
   },
   "outputs": [],
   "source": [
    "import pandas as pd\n",
    "import numpy as np\n",
    "import matplotlib.pyplot as plt\n",
    "import seaborn as sns\n",
    "from datetime import datetime\n",
    "import os\n",
    "from datetime import timedelta\n",
    "#import datetime\n",
    "%matplotlib inline"
   ]
  },
  {
   "cell_type": "code",
   "execution_count": 2,
   "metadata": {
    "pycharm": {
     "is_executing": false
    }
   },
   "outputs": [],
   "source": [
    "df = pd.read_csv(r\"C:\\Users\\Janwe\\OneDrive\\Desktop\\Bachelor_Arbeit\\Daten\\Electirc Vehicles\\REM2030_v2015.csv\", sep=\";\")\n",
    "car_info = pd.read_csv(r\"C:\\Users\\Janwe\\OneDrive\\Desktop\\Bachelor_Arbeit\\Daten\\Electirc Vehicles\\REM2030_v2015_car_info.csv\",sep=\";\")"
   ]
  },
  {
   "cell_type": "code",
   "execution_count": 3,
   "metadata": {
    "pycharm": {
     "is_executing": false
    }
   },
   "outputs": [],
   "source": [
    "df_tmp = df[[\"deptyear\",\"deptmonth\",\"deptday\",\"depthour\",\"deptminute\",\"arryear\",\"arrmonth\",\"arrday\",\"arrhour\",\"arrminute\"]]"
   ]
  },
  {
   "cell_type": "code",
   "execution_count": 4,
   "metadata": {
    "pycharm": {
     "is_executing": false
    }
   },
   "outputs": [
    {
     "data": {
      "text/plain": [
       "deptyear      int32\n",
       "deptmonth     int32\n",
       "deptday       int32\n",
       "depthour      int32\n",
       "deptminute    int32\n",
       "arryear       int32\n",
       "arrmonth      int32\n",
       "arrday        int32\n",
       "arrhour       int32\n",
       "arrminute     int32\n",
       "dtype: object"
      ]
     },
     "execution_count": 4,
     "metadata": {},
     "output_type": "execute_result"
    }
   ],
   "source": [
    "df_tmp.astype(\"int32\").dtypes"
   ]
  },
  {
   "cell_type": "code",
   "execution_count": 5,
   "metadata": {
    "pycharm": {
     "is_executing": false
    }
   },
   "outputs": [],
   "source": [
    "electric_cars = pd.DataFrame(columns=[\"id\",\"deptTime\",\"arrTime\"])\n",
    "electric_cars[[\"id\",\"distance\", \"distance_to_company\"]] = df[[\"id\",\"distance\", \"distance_to_company\"]].copy()"
   ]
  },
  {
   "cell_type": "code",
   "execution_count": 6,
   "metadata": {
    "pycharm": {
     "is_executing": false
    }
   },
   "outputs": [],
   "source": [
    "deptTime = []\n",
    "for i in range(len(df)):\n",
    "    l = df_tmp.loc[i]\n",
    "    deptTime.append(datetime(l[0],l[1],l[2],l[3],l[4]))\n",
    "\n",
    "arrTime = []\n",
    "for i in range(len(df)):\n",
    "    l = df_tmp.loc[i]\n",
    "    arrTime.append(datetime(l[5],l[6],l[7],l[8],l[9]))"
   ]
  },
  {
   "cell_type": "code",
   "execution_count": 7,
   "metadata": {
    "pycharm": {
     "is_executing": false
    }
   },
   "outputs": [],
   "source": [
    "electric_cars[\"deptTime\"] = pd.Series(deptTime)\n",
    "electric_cars[\"arrTime\"] = pd.Series(arrTime)\n",
    "\n",
    "transporter = car_info[car_info[\"vehicle_size\"]==\"transporter\"]\n",
    "special_vehicle = car_info[car_info[\"vehicle_size\"]==\"special vehicle\"]"
   ]
  },
  {
   "cell_type": "code",
   "execution_count": 8,
   "metadata": {
    "pycharm": {
     "is_executing": false
    }
   },
   "outputs": [],
   "source": [
    "#exclude transporter and special vehicles\n",
    "exclude = pd.concat([transporter[\"id\"],special_vehicle[\"id\"]])\n",
    "ev_excluded = electric_cars[~electric_cars.id.isin(exclude)]\n",
    "car_info_excluded = car_info[~car_info.id.isin(exclude)]\n",
    "car_info_excluded = car_info_excluded[['id','vehicle_size','federal_state','company_id']]"
   ]
  },
  {
   "cell_type": "code",
   "execution_count": 9,
   "metadata": {
    "pycharm": {
     "is_executing": false
    }
   },
   "outputs": [
    {
     "data": {
      "text/html": [
       "<div>\n",
       "<style scoped>\n",
       "    .dataframe tbody tr th:only-of-type {\n",
       "        vertical-align: middle;\n",
       "    }\n",
       "\n",
       "    .dataframe tbody tr th {\n",
       "        vertical-align: top;\n",
       "    }\n",
       "\n",
       "    .dataframe thead th {\n",
       "        text-align: right;\n",
       "    }\n",
       "</style>\n",
       "<table border=\"1\" class=\"dataframe\">\n",
       "  <thead>\n",
       "    <tr style=\"text-align: right;\">\n",
       "      <th></th>\n",
       "      <th>id</th>\n",
       "      <th>vehicle_size</th>\n",
       "      <th>federal_state</th>\n",
       "      <th>company_id</th>\n",
       "    </tr>\n",
       "  </thead>\n",
       "  <tbody>\n",
       "    <tr>\n",
       "      <th>0</th>\n",
       "      <td>1106000161</td>\n",
       "      <td>small</td>\n",
       "      <td>BW</td>\n",
       "      <td>110615</td>\n",
       "    </tr>\n",
       "    <tr>\n",
       "      <th>1</th>\n",
       "      <td>1106000171</td>\n",
       "      <td>large</td>\n",
       "      <td>BW</td>\n",
       "      <td>110615</td>\n",
       "    </tr>\n",
       "    <tr>\n",
       "      <th>2</th>\n",
       "      <td>1106000181</td>\n",
       "      <td>small</td>\n",
       "      <td>BW</td>\n",
       "      <td>110615</td>\n",
       "    </tr>\n",
       "    <tr>\n",
       "      <th>3</th>\n",
       "      <td>1106000191</td>\n",
       "      <td>medium</td>\n",
       "      <td>BW</td>\n",
       "      <td>110615</td>\n",
       "    </tr>\n",
       "    <tr>\n",
       "      <th>4</th>\n",
       "      <td>1106000201</td>\n",
       "      <td>small</td>\n",
       "      <td>BW</td>\n",
       "      <td>110615</td>\n",
       "    </tr>\n",
       "  </tbody>\n",
       "</table>\n",
       "</div>"
      ],
      "text/plain": [
       "           id vehicle_size federal_state  company_id\n",
       "0  1106000161        small            BW      110615\n",
       "1  1106000171        large            BW      110615\n",
       "2  1106000181        small            BW      110615\n",
       "3  1106000191       medium            BW      110615\n",
       "4  1106000201        small            BW      110615"
      ]
     },
     "execution_count": 9,
     "metadata": {},
     "output_type": "execute_result"
    }
   ],
   "source": [
    "car_info_excluded.head()"
   ]
  },
  {
   "cell_type": "code",
   "execution_count": 10,
   "metadata": {
    "pycharm": {
     "is_executing": false
    }
   },
   "outputs": [
    {
     "name": "stderr",
     "output_type": "stream",
     "text": [
      "C:\\Users\\Janwe\\anaconda3\\envs\\condaPython3\\lib\\site-packages\\ipykernel_launcher.py:5: FutureWarning: Series.dt.weekofyear and Series.dt.week have been deprecated.  Please use Series.dt.isocalendar().week instead.\n",
      "  \"\"\"\n"
     ]
    }
   ],
   "source": [
    "ev = ev_excluded.copy()\n",
    "ev[\"deptTime_round\"] = pd.to_datetime(ev[\"deptTime\"].dt.floor(\"15min\"))\n",
    "ev[\"arrTime_round\"] = pd.to_datetime(ev[\"arrTime\"].dt.floor('15min'))\n",
    "ev = ev.drop(columns=\"distance_to_company\")\n",
    "ev[\"week\"] = ev[\"deptTime\"].dt.week\n",
    "ev[\"oneWeek\"] = ev.id.astype(str) + ev[\"week\"].astype(str)"
   ]
  },
  {
   "cell_type": "code",
   "execution_count": 11,
   "metadata": {
    "pycharm": {
     "is_executing": false
    }
   },
   "outputs": [],
   "source": [
    "# Index Levels\n",
    "outside = ev[\"oneWeek\"]\n",
    "inside = ev.index\n",
    "hier_index = list(zip(outside,inside))\n",
    "hier_index = pd.MultiIndex.from_tuples(hier_index)"
   ]
  },
  {
   "cell_type": "code",
   "execution_count": 12,
   "metadata": {
    "pycharm": {
     "is_executing": false
    },
    "scrolled": false
   },
   "outputs": [],
   "source": [
    "hier_ev = ev.set_index(hier_index)\n",
    "hier_ev.index.names = [\"week\",None]\n",
    "hier_ev.drop(columns=[\"week\",\"oneWeek\"],inplace=True)"
   ]
  },
  {
   "cell_type": "code",
   "execution_count": 13,
   "metadata": {
    "pycharm": {
     "is_executing": false
    }
   },
   "outputs": [
    {
     "data": {
      "text/html": [
       "<div>\n",
       "<style scoped>\n",
       "    .dataframe tbody tr th:only-of-type {\n",
       "        vertical-align: middle;\n",
       "    }\n",
       "\n",
       "    .dataframe tbody tr th {\n",
       "        vertical-align: top;\n",
       "    }\n",
       "\n",
       "    .dataframe thead th {\n",
       "        text-align: right;\n",
       "    }\n",
       "</style>\n",
       "<table border=\"1\" class=\"dataframe\">\n",
       "  <thead>\n",
       "    <tr style=\"text-align: right;\">\n",
       "      <th></th>\n",
       "      <th></th>\n",
       "      <th>id</th>\n",
       "      <th>deptTime</th>\n",
       "      <th>arrTime</th>\n",
       "      <th>distance</th>\n",
       "      <th>deptTime_round</th>\n",
       "      <th>arrTime_round</th>\n",
       "    </tr>\n",
       "    <tr>\n",
       "      <th>week</th>\n",
       "      <th></th>\n",
       "      <th></th>\n",
       "      <th></th>\n",
       "      <th></th>\n",
       "      <th></th>\n",
       "      <th></th>\n",
       "      <th></th>\n",
       "    </tr>\n",
       "  </thead>\n",
       "  <tbody>\n",
       "    <tr>\n",
       "      <th rowspan=\"5\" valign=\"top\">110600016124</th>\n",
       "      <th>0</th>\n",
       "      <td>1106000161</td>\n",
       "      <td>2011-06-16 08:07:00</td>\n",
       "      <td>2011-06-16 09:55:00</td>\n",
       "      <td>2.66</td>\n",
       "      <td>2011-06-16 08:00:00</td>\n",
       "      <td>2011-06-16 09:45:00</td>\n",
       "    </tr>\n",
       "    <tr>\n",
       "      <th>1</th>\n",
       "      <td>1106000161</td>\n",
       "      <td>2011-06-16 10:32:00</td>\n",
       "      <td>2011-06-16 10:34:00</td>\n",
       "      <td>3.19</td>\n",
       "      <td>2011-06-16 10:30:00</td>\n",
       "      <td>2011-06-16 10:30:00</td>\n",
       "    </tr>\n",
       "    <tr>\n",
       "      <th>2</th>\n",
       "      <td>1106000161</td>\n",
       "      <td>2011-06-16 15:15:00</td>\n",
       "      <td>2011-06-16 15:17:00</td>\n",
       "      <td>0.63</td>\n",
       "      <td>2011-06-16 15:15:00</td>\n",
       "      <td>2011-06-16 15:15:00</td>\n",
       "    </tr>\n",
       "    <tr>\n",
       "      <th>3</th>\n",
       "      <td>1106000161</td>\n",
       "      <td>2011-06-17 11:47:00</td>\n",
       "      <td>2011-06-17 11:51:00</td>\n",
       "      <td>1.70</td>\n",
       "      <td>2011-06-17 11:45:00</td>\n",
       "      <td>2011-06-17 11:45:00</td>\n",
       "    </tr>\n",
       "    <tr>\n",
       "      <th>4</th>\n",
       "      <td>1106000161</td>\n",
       "      <td>2011-06-17 11:51:00</td>\n",
       "      <td>2011-06-17 11:52:00</td>\n",
       "      <td>1.54</td>\n",
       "      <td>2011-06-17 11:45:00</td>\n",
       "      <td>2011-06-17 11:45:00</td>\n",
       "    </tr>\n",
       "    <tr>\n",
       "      <th>...</th>\n",
       "      <th>...</th>\n",
       "      <td>...</td>\n",
       "      <td>...</td>\n",
       "      <td>...</td>\n",
       "      <td>...</td>\n",
       "      <td>...</td>\n",
       "      <td>...</td>\n",
       "    </tr>\n",
       "    <tr>\n",
       "      <th rowspan=\"5\" valign=\"top\">15016552587</th>\n",
       "      <th>86795</th>\n",
       "      <td>1501655258</td>\n",
       "      <td>2015-02-12 10:48:00</td>\n",
       "      <td>2015-02-12 11:02:00</td>\n",
       "      <td>0.50</td>\n",
       "      <td>2015-02-12 10:45:00</td>\n",
       "      <td>2015-02-12 11:00:00</td>\n",
       "    </tr>\n",
       "    <tr>\n",
       "      <th>86796</th>\n",
       "      <td>1501655258</td>\n",
       "      <td>2015-02-12 11:07:00</td>\n",
       "      <td>2015-02-12 11:14:00</td>\n",
       "      <td>0.40</td>\n",
       "      <td>2015-02-12 11:00:00</td>\n",
       "      <td>2015-02-12 11:00:00</td>\n",
       "    </tr>\n",
       "    <tr>\n",
       "      <th>86797</th>\n",
       "      <td>1501655258</td>\n",
       "      <td>2015-02-12 16:55:00</td>\n",
       "      <td>2015-02-12 17:12:00</td>\n",
       "      <td>1.60</td>\n",
       "      <td>2015-02-12 16:45:00</td>\n",
       "      <td>2015-02-12 17:00:00</td>\n",
       "    </tr>\n",
       "    <tr>\n",
       "      <th>86798</th>\n",
       "      <td>1501655258</td>\n",
       "      <td>2015-02-12 17:55:00</td>\n",
       "      <td>2015-02-12 18:55:00</td>\n",
       "      <td>44.70</td>\n",
       "      <td>2015-02-12 17:45:00</td>\n",
       "      <td>2015-02-12 18:45:00</td>\n",
       "    </tr>\n",
       "    <tr>\n",
       "      <th>86799</th>\n",
       "      <td>1501655258</td>\n",
       "      <td>2015-02-12 21:52:00</td>\n",
       "      <td>2015-02-12 21:53:00</td>\n",
       "      <td>0.20</td>\n",
       "      <td>2015-02-12 21:45:00</td>\n",
       "      <td>2015-02-12 21:45:00</td>\n",
       "    </tr>\n",
       "  </tbody>\n",
       "</table>\n",
       "<p>65006 rows × 6 columns</p>\n",
       "</div>"
      ],
      "text/plain": [
       "                            id            deptTime             arrTime  \\\n",
       "week                                                                     \n",
       "110600016124 0      1106000161 2011-06-16 08:07:00 2011-06-16 09:55:00   \n",
       "             1      1106000161 2011-06-16 10:32:00 2011-06-16 10:34:00   \n",
       "             2      1106000161 2011-06-16 15:15:00 2011-06-16 15:17:00   \n",
       "             3      1106000161 2011-06-17 11:47:00 2011-06-17 11:51:00   \n",
       "             4      1106000161 2011-06-17 11:51:00 2011-06-17 11:52:00   \n",
       "...                        ...                 ...                 ...   \n",
       "15016552587  86795  1501655258 2015-02-12 10:48:00 2015-02-12 11:02:00   \n",
       "             86796  1501655258 2015-02-12 11:07:00 2015-02-12 11:14:00   \n",
       "             86797  1501655258 2015-02-12 16:55:00 2015-02-12 17:12:00   \n",
       "             86798  1501655258 2015-02-12 17:55:00 2015-02-12 18:55:00   \n",
       "             86799  1501655258 2015-02-12 21:52:00 2015-02-12 21:53:00   \n",
       "\n",
       "                    distance      deptTime_round       arrTime_round  \n",
       "week                                                                  \n",
       "110600016124 0          2.66 2011-06-16 08:00:00 2011-06-16 09:45:00  \n",
       "             1          3.19 2011-06-16 10:30:00 2011-06-16 10:30:00  \n",
       "             2          0.63 2011-06-16 15:15:00 2011-06-16 15:15:00  \n",
       "             3          1.70 2011-06-17 11:45:00 2011-06-17 11:45:00  \n",
       "             4          1.54 2011-06-17 11:45:00 2011-06-17 11:45:00  \n",
       "...                      ...                 ...                 ...  \n",
       "15016552587  86795      0.50 2015-02-12 10:45:00 2015-02-12 11:00:00  \n",
       "             86796      0.40 2015-02-12 11:00:00 2015-02-12 11:00:00  \n",
       "             86797      1.60 2015-02-12 16:45:00 2015-02-12 17:00:00  \n",
       "             86798     44.70 2015-02-12 17:45:00 2015-02-12 18:45:00  \n",
       "             86799      0.20 2015-02-12 21:45:00 2015-02-12 21:45:00  \n",
       "\n",
       "[65006 rows x 6 columns]"
      ]
     },
     "execution_count": 13,
     "metadata": {},
     "output_type": "execute_result"
    }
   ],
   "source": [
    "hier_ev"
   ]
  },
  {
   "cell_type": "code",
   "execution_count": 14,
   "metadata": {
    "pycharm": {
     "is_executing": false
    }
   },
   "outputs": [],
   "source": [
    "index = list(hier_ev.index)\n",
    "weeks = []\n",
    "\n",
    "for i in range(len(index)):\n",
    "    weeks.append(index[i][0])\n",
    "    "
   ]
  },
  {
   "cell_type": "code",
   "execution_count": 15,
   "metadata": {
    "pycharm": {
     "is_executing": false
    }
   },
   "outputs": [],
   "source": [
    "trips = hier_ev.drop([\"id\",\"arrTime\",\"deptTime\"],axis=1)\n",
    "trips[\"deptTime\"] = trips[\"deptTime_round\"].dt.strftime(\"%w - %H:%M\")\n",
    "trips[\"arrTime\"] = trips[\"arrTime_round\"].dt.strftime(\"%w - %H:%M\")\n",
    "trips.drop([\"arrTime_round\",\"deptTime_round\"],axis=1,inplace=True)"
   ]
  },
  {
   "cell_type": "code",
   "execution_count": 16,
   "metadata": {
    "pycharm": {
     "is_executing": false
    }
   },
   "outputs": [
    {
     "data": {
      "text/html": [
       "<div>\n",
       "<style scoped>\n",
       "    .dataframe tbody tr th:only-of-type {\n",
       "        vertical-align: middle;\n",
       "    }\n",
       "\n",
       "    .dataframe tbody tr th {\n",
       "        vertical-align: top;\n",
       "    }\n",
       "\n",
       "    .dataframe thead th {\n",
       "        text-align: right;\n",
       "    }\n",
       "</style>\n",
       "<table border=\"1\" class=\"dataframe\">\n",
       "  <thead>\n",
       "    <tr style=\"text-align: right;\">\n",
       "      <th></th>\n",
       "      <th></th>\n",
       "      <th>distance</th>\n",
       "      <th>deptTime</th>\n",
       "      <th>arrTime</th>\n",
       "    </tr>\n",
       "    <tr>\n",
       "      <th>week</th>\n",
       "      <th></th>\n",
       "      <th></th>\n",
       "      <th></th>\n",
       "      <th></th>\n",
       "    </tr>\n",
       "  </thead>\n",
       "  <tbody>\n",
       "    <tr>\n",
       "      <th rowspan=\"11\" valign=\"top\">110600016125</th>\n",
       "      <th>6</th>\n",
       "      <td>3.17</td>\n",
       "      <td>1 - 10:00</td>\n",
       "      <td>1 - 10:30</td>\n",
       "    </tr>\n",
       "    <tr>\n",
       "      <th>7</th>\n",
       "      <td>18.14</td>\n",
       "      <td>1 - 13:15</td>\n",
       "      <td>1 - 13:30</td>\n",
       "    </tr>\n",
       "    <tr>\n",
       "      <th>8</th>\n",
       "      <td>2.65</td>\n",
       "      <td>2 - 09:30</td>\n",
       "      <td>2 - 09:45</td>\n",
       "    </tr>\n",
       "    <tr>\n",
       "      <th>9</th>\n",
       "      <td>9.88</td>\n",
       "      <td>2 - 10:45</td>\n",
       "      <td>2 - 11:15</td>\n",
       "    </tr>\n",
       "    <tr>\n",
       "      <th>10</th>\n",
       "      <td>2.84</td>\n",
       "      <td>2 - 14:45</td>\n",
       "      <td>2 - 15:00</td>\n",
       "    </tr>\n",
       "    <tr>\n",
       "      <th>11</th>\n",
       "      <td>2.30</td>\n",
       "      <td>5 - 07:30</td>\n",
       "      <td>5 - 07:30</td>\n",
       "    </tr>\n",
       "    <tr>\n",
       "      <th>12</th>\n",
       "      <td>5.58</td>\n",
       "      <td>5 - 07:30</td>\n",
       "      <td>5 - 07:45</td>\n",
       "    </tr>\n",
       "    <tr>\n",
       "      <th>13</th>\n",
       "      <td>7.11</td>\n",
       "      <td>5 - 08:00</td>\n",
       "      <td>5 - 08:15</td>\n",
       "    </tr>\n",
       "    <tr>\n",
       "      <th>14</th>\n",
       "      <td>5.93</td>\n",
       "      <td>5 - 08:30</td>\n",
       "      <td>5 - 08:45</td>\n",
       "    </tr>\n",
       "    <tr>\n",
       "      <th>15</th>\n",
       "      <td>1.20</td>\n",
       "      <td>5 - 09:30</td>\n",
       "      <td>5 - 09:30</td>\n",
       "    </tr>\n",
       "    <tr>\n",
       "      <th>16</th>\n",
       "      <td>1.46</td>\n",
       "      <td>5 - 09:45</td>\n",
       "      <td>5 - 09:45</td>\n",
       "    </tr>\n",
       "  </tbody>\n",
       "</table>\n",
       "</div>"
      ],
      "text/plain": [
       "                 distance   deptTime    arrTime\n",
       "week                                           \n",
       "110600016125 6       3.17  1 - 10:00  1 - 10:30\n",
       "             7      18.14  1 - 13:15  1 - 13:30\n",
       "             8       2.65  2 - 09:30  2 - 09:45\n",
       "             9       9.88  2 - 10:45  2 - 11:15\n",
       "             10      2.84  2 - 14:45  2 - 15:00\n",
       "             11      2.30  5 - 07:30  5 - 07:30\n",
       "             12      5.58  5 - 07:30  5 - 07:45\n",
       "             13      7.11  5 - 08:00  5 - 08:15\n",
       "             14      5.93  5 - 08:30  5 - 08:45\n",
       "             15      1.20  5 - 09:30  5 - 09:30\n",
       "             16      1.46  5 - 09:45  5 - 09:45"
      ]
     },
     "execution_count": 16,
     "metadata": {},
     "output_type": "execute_result"
    }
   ],
   "source": [
    "trips.loc[[\"110600016125\"]]"
   ]
  },
  {
   "cell_type": "code",
   "execution_count": 17,
   "metadata": {
    "pycharm": {
     "is_executing": false
    }
   },
   "outputs": [],
   "source": [
    "week_trips = pd.unique(weeks)"
   ]
  },
  {
   "cell_type": "code",
   "execution_count": 18,
   "metadata": {
    "pycharm": {
     "is_executing": false
    }
   },
   "outputs": [],
   "source": [
    "def timeDiff(dept,arr):\n",
    "    FMT = '%H:%M'\n",
    "    tdelta = datetime.strptime(arr, FMT) - datetime.strptime(dept, FMT)\n",
    "    if tdelta.days < 0:\n",
    "        tdelta = timedelta(days=0,\n",
    "                    seconds=tdelta.seconds, microseconds=tdelta.microseconds)\n",
    "    return tdelta"
   ]
  },
  {
   "cell_type": "code",
   "execution_count": 19,
   "metadata": {
    "pycharm": {
     "is_executing": false
    }
   },
   "outputs": [],
   "source": [
    "from datetime import time\n",
    "start = datetime(2020,10,5,0,0)\n",
    "result = []\n",
    "for a in range(672):\n",
    "    start += timedelta(minutes=15)\n",
    "    result.append(start.time())\n",
    "    "
   ]
  },
  {
   "cell_type": "code",
   "execution_count": 20,
   "metadata": {
    "pycharm": {
     "is_executing": false
    }
   },
   "outputs": [],
   "source": [
    "Av = pd.DataFrame(data= pd.Series(result), columns=[\"time\"])"
   ]
  },
  {
   "cell_type": "code",
   "execution_count": 21,
   "metadata": {
    "pycharm": {
     "is_executing": false
    }
   },
   "outputs": [],
   "source": [
    "a = []\n",
    "for i in range(len(Av)):\n",
    "    a.append(1)\n",
    "    \n",
    "Av[\"a\"] = a"
   ]
  },
  {
   "cell_type": "code",
   "execution_count": 22,
   "metadata": {
    "pycharm": {
     "is_executing": false
    }
   },
   "outputs": [],
   "source": [
    "weekday = []\n",
    "day = 0 \n",
    "for i in range(len(Av)):\n",
    "    if(Av[\"time\"][i]== Av[\"time\"][671]):\n",
    "        day = day + 1\n",
    "    weekday.append(day)\n",
    "    \n",
    "Av[\"weekday\"] = weekday"
   ]
  },
  {
   "cell_type": "code",
   "execution_count": 23,
   "metadata": {
    "pycharm": {
     "is_executing": false,
     "name": "#%%\n"
    }
   },
   "outputs": [],
   "source": [
    "info = pd.DataFrame(columns=[\"A\",\"distance\"])\n",
    "dist = []\n",
    "for l in range(len(Av)):\n",
    "    dist.append(0.0)\n",
    "    \n",
    "info[\"A\"] = Av[\"a\"].copy()\n",
    "info[\"distance\"] = dist\n"
   ]
  },
  {
   "cell_type": "code",
   "execution_count": 24,
   "metadata": {
    "pycharm": {
     "is_executing": false
    }
   },
   "outputs": [],
   "source": [
    "frames = {}\n",
    "\n",
    "for k in week_trips[:1750]:\n",
    "    frames[k] = info.copy()\n"
   ]
  },
  {
   "cell_type": "code",
   "execution_count": 25,
   "metadata": {
    "pycharm": {
     "is_executing": false,
     "name": "#%%\n"
    }
   },
   "outputs": [
    {
     "name": "stderr",
     "output_type": "stream",
     "text": [
      "C:\\Users\\Janwe\\anaconda3\\envs\\condaPython3\\lib\\site-packages\\ipykernel_launcher.py:2: SettingWithCopyWarning: \n",
      "A value is trying to be set on a copy of a slice from a DataFrame\n",
      "\n",
      "See the caveats in the documentation: https://pandas.pydata.org/pandas-docs/stable/user_guide/indexing.html#returning-a-view-versus-a-copy\n",
      "  \n"
     ]
    }
   ],
   "source": [
    "for i in range(len(Av)):\n",
    "    Av[\"time\"][i] = Av[\"time\"][i].strftime(\"%H:%M\")"
   ]
  },
  {
   "cell_type": "code",
   "execution_count": null,
   "metadata": {
    "pycharm": {
     "is_executing": false
    }
   },
   "outputs": [],
   "source": [
    "#dict \n",
    "\n",
    "def sepFunc(d2):\n",
    "    go = False\n",
    "    for k in d2.keys():\n",
    "        t = trips.loc[[k]].droplevel(level=0)\n",
    "        t.reset_index(inplace=True,drop=True)\n",
    "        for j in range(len(t)):\n",
    "            for i in range(len(Av)):\n",
    "                time = Av[\"time\"][i]\n",
    "                if(int(t.iloc[j][\"deptTime\"][0]) == Av[\"weekday\"][i]):\n",
    "                    if(t.iloc[j][\"deptTime\"][4:] == time):\n",
    "                        if(go == False):\n",
    "                            d2.get(k)[\"distance\"][i-1] = t.iloc[j][\"distance\"]\n",
    "                        go = True\n",
    "                    if(go):\n",
    "                        if(t.iloc[j][\"arrTime\"][4:] == time):\n",
    "                            d2.get(k)[\"A\"][i] =  0\n",
    "                            go = False\n",
    "                        if(t.iloc[j][\"arrTime\"][4:] is not time):\n",
    "                            d2.get(k)[\"A\"][i] =  0\n",
    "                            \n",
    "    return d2"
   ]
  },
  {
   "cell_type": "code",
   "execution_count": null,
   "metadata": {
    "pycharm": {
     "is_executing": false,
     "name": "#%%\n"
    }
   },
   "outputs": [],
   "source": [
    "tmp = sepFunc(frames)\n",
    "out  = list(tmp.values())\n",
    "df_out = pd.concat(out)"
   ]
  },
  {
   "cell_type": "code",
   "execution_count": null,
   "metadata": {
    "pycharm": {
     "is_executing": false
    }
   },
   "outputs": [],
   "source": [
    "df_out.to_csv(r\"C:\\Users\\Janwe\\OneDrive\\Desktop\\Bachelor_Arbeit\\Daten\\ev_Av_consumption_1750.csv\",index=False)"
   ]
  },
  {
   "cell_type": "code",
   "execution_count": null,
   "metadata": {},
   "outputs": [],
   "source": [
    "together = []\n",
    "for i in range(0,len(df_out),672):\n",
    "    together.append(df_out[i:i+672])\n",
    "    "
   ]
  },
  {
   "cell_type": "code",
   "execution_count": null,
   "metadata": {},
   "outputs": [],
   "source": [
    "df_ev = pd.read_csv(r\"C:\\Users\\Janwe\\OneDrive\\Desktop\\Bachelor_Arbeit\\Daten\\ev_Av_consumption_1750.csv\")\n",
    "df = pd.read_csv(r\"C:/Users/Janwe/OneDrive/Desktop/Bachelor_Arbeit/Daten/base_data_2019_65000H.csv\")"
   ]
  },
  {
   "cell_type": "code",
   "execution_count": null,
   "metadata": {},
   "outputs": [],
   "source": [
    "#splitting the data for the EVs into two lists\n",
    "\n",
    "ev_list = []\n",
    "for i in range(0,len(df_ev),672):\n",
    "    ev_list.append(df_ev[i:i+672].reset_index(drop=True))\n",
    "\n",
    "Av_list = []\n",
    "for i in ev_list:\n",
    "    Av_list.append(i[\"A\"])\n",
    "    \n",
    "consumption_list = []\n",
    "\n",
    "for i in ev_list:\n",
    "    consumption_list.append((i[\"distance\"]*0.00015)/4)"
   ]
  },
  {
   "cell_type": "markdown",
   "metadata": {},
   "source": [
    "## 1st & 2nd Quarter"
   ]
  },
  {
   "cell_type": "markdown",
   "metadata": {},
   "source": [
    "The second quarter has the same length as the first, thus the first can be used"
   ]
  },
  {
   "cell_type": "code",
   "execution_count": 1,
   "metadata": {},
   "outputs": [
    {
     "ename": "NameError",
     "evalue": "name 'df' is not defined",
     "output_type": "error",
     "traceback": [
      "\u001b[1;31m---------------------------------------------------------------------------\u001b[0m",
      "\u001b[1;31mNameError\u001b[0m                                 Traceback (most recent call last)",
      "\u001b[1;32m<ipython-input-1-6ccc1aa31ae2>\u001b[0m in \u001b[0;36m<module>\u001b[1;34m\u001b[0m\n\u001b[1;32m----> 1\u001b[1;33m \u001b[0mlen1st\u001b[0m \u001b[1;33m=\u001b[0m \u001b[0mlen\u001b[0m\u001b[1;33m(\u001b[0m\u001b[0mdf\u001b[0m\u001b[1;33m[\u001b[0m\u001b[1;34m\"date\"\u001b[0m\u001b[1;33m]\u001b[0m\u001b[1;33m[\u001b[0m\u001b[1;33m:\u001b[0m\u001b[1;36m8640\u001b[0m\u001b[1;33m]\u001b[0m\u001b[1;33m)\u001b[0m\u001b[1;33m\u001b[0m\u001b[1;33m\u001b[0m\u001b[0m\n\u001b[0m",
      "\u001b[1;31mNameError\u001b[0m: name 'df' is not defined"
     ]
    }
   ],
   "source": [
    "len1st = len(df[\"date\"][:8640])"
   ]
  },
  {
   "cell_type": "code",
   "execution_count": null,
   "metadata": {},
   "outputs": [],
   "source": [
    "#2nd quarter\n",
    "df[\"date\"][8640:17280]"
   ]
  },
  {
   "cell_type": "code",
   "execution_count": null,
   "metadata": {},
   "outputs": [],
   "source": [
    "consumption_1stQuarter = consumption_list.copy()\n",
    "\n",
    "for j in range(11):\n",
    "    for i in range(len(consumption_list)):\n",
    "        consumption_1stQuarter[i] = consumption_1stQuarter[i].append(consumption_list[i])\n",
    "        \n",
    "\n",
    "for i in range(len(consumption_list)):        \n",
    "    consumption_1stQuarter[i] = consumption_1stQuarter[i].append(consumption_list[i][:576])\n",
    "    consumption_1stQuarter[i].reset_index(inplace = True ,drop=True)\n",
    "    \n",
    "for i in range(len(consumption_1stQuarter)):\n",
    "    for j in range(len1st-6, len1st):\n",
    "        consumption_1stQuarter[i][len1st-6:][j]=0"
   ]
  },
  {
   "cell_type": "code",
   "execution_count": null,
   "metadata": {},
   "outputs": [],
   "source": [
    "Av_1stQuarter = Av_list.copy()"
   ]
  },
  {
   "cell_type": "code",
   "execution_count": null,
   "metadata": {},
   "outputs": [],
   "source": [
    "for j in range(11):\n",
    "    for i in range(len(Av_list)):\n",
    "        Av_1stQuarter[i] = Av_1stQuarter[i].append(Av_list[i]).reset_index(drop=True)\n",
    "        \n",
    "\n",
    "for i in range(len(Av_list)):        \n",
    "    Av_1stQuarter[i] = Av_1stQuarter[i].append(Av_list[i][:576])\n",
    "    Av_1stQuarter[i].reset_index(inplace=True,drop=True)\n",
    "    \n",
    "for i in range(len(Av_1stQuarter)):\n",
    "    for j in range(len1st-6, len1st-6):\n",
    "        Av_1stQuarter[i][len1st-6:][j]=1"
   ]
  },
  {
   "cell_type": "code",
   "execution_count": null,
   "metadata": {},
   "outputs": [],
   "source": [
    "df_1stAnd2ndQuarter = pd.DataFrame(columns=[\"date\",\"Av\", \"consumption\"])\n",
    "df_1stAnd2ndQuarter[\"date\"] = df[\"date\"][:8640]\n",
    "df_1stAnd2ndQuarter[\"Av\"] = Av_1stQuarter\n",
    "df_1stAnd2ndQuarter[\"consumption\"] = consumption_1stQuarter"
   ]
  },
  {
   "cell_type": "code",
   "execution_count": null,
   "metadata": {},
   "outputs": [],
   "source": [
    "8640/4/24/7"
   ]
  },
  {
   "cell_type": "code",
   "execution_count": null,
   "metadata": {},
   "outputs": [],
   "source": [
    "len(Av_1stQuarter)"
   ]
  },
  {
   "cell_type": "markdown",
   "metadata": {},
   "source": [
    "## 3rd Quarter"
   ]
  },
  {
   "cell_type": "code",
   "execution_count": null,
   "metadata": {},
   "outputs": [],
   "source": [
    "len3rd = len(df[\"date\"][17280:26112])"
   ]
  },
  {
   "cell_type": "code",
   "execution_count": null,
   "metadata": {},
   "outputs": [],
   "source": [
    "consumption_3rdQuarter = consumption_list.copy()\n",
    "\n",
    "for j in range(12):\n",
    "    for i in range(len(consumption_list)):\n",
    "        consumption_3rdQuarter[i] = consumption_3rdQuarter[i].append(consumption_list[i])\n",
    "        \n",
    "for i in range(len(consumption_list)):        \n",
    "    consumption_3rdQuarter[i] = consumption_3rdQuarter[i].append(consumption_list[i][:96])\n",
    "    consumption_3rdQuarter[i].reset_index(inplace = True ,drop=True)\n",
    "\n",
    "for i in range(len(consumption_3rdQuarter)):\n",
    "    for j in range(len3rd-6,len3rd):\n",
    "        consumption_3rdQuarter[i][len(consumption_3rdQuarter[1])-6:][j]=0"
   ]
  },
  {
   "cell_type": "code",
   "execution_count": null,
   "metadata": {},
   "outputs": [],
   "source": [
    "Av_3rdQuarter = Av_list.copy()\n",
    "\n",
    "for j in range(12):\n",
    "    for i in range(len(Av_list)):\n",
    "        Av_3rdQuarter[i] = Av_3rdQuarter[i].append(Av_list[i]).reset_index(drop=True)\n",
    "        \n",
    "\n",
    "for i in range(len(Av_list)):        \n",
    "    Av_3rdQuarter[i] = Av_3rdQuarter[i].append(Av_list[i][:96])\n",
    "    Av_3rdQuarter[i].reset_index(inplace=True,drop=True)\n",
    "    \n",
    "for i in range(len(Av_3rdQuarter)):\n",
    "    for j in range(len(Av_3rdQuarter[1])-6,len(Av_3rdQuarter[1])):\n",
    "        Av_3rdQuarter[i][len(Av_3rdQuarter[1])-6:][j]=1"
   ]
  },
  {
   "cell_type": "markdown",
   "metadata": {},
   "source": [
    "## 4th Quarter"
   ]
  },
  {
   "cell_type": "code",
   "execution_count": null,
   "metadata": {},
   "outputs": [],
   "source": [
    "len4th = len(df[\"date\"][26112:35040])"
   ]
  },
  {
   "cell_type": "code",
   "execution_count": null,
   "metadata": {},
   "outputs": [],
   "source": [
    "len4th"
   ]
  },
  {
   "cell_type": "code",
   "execution_count": null,
   "metadata": {},
   "outputs": [],
   "source": [
    "consumption_4thQuarter = consumption_list.copy()\n",
    "\n",
    "for j in range(12):\n",
    "    for i in range(len(consumption_list)):\n",
    "        consumption_4thQuarter[i] = consumption_4thQuarter[i].append(consumption_list[i])\n",
    "        \n",
    "for i in range(len(consumption_list)):        \n",
    "    consumption_4thQuarter[i] = consumption_4thQuarter[i].append(consumption_list[i][:192])\n",
    "    consumption_4thQuarter[i].reset_index(inplace = True ,drop=True)\n",
    "\n",
    "for i in range(len(consumption_4thQuarter)):\n",
    "    for j in range(len4th-6,len4th):\n",
    "        consumption_4thQuarter[i][len4th-6:][j]=0"
   ]
  },
  {
   "cell_type": "code",
   "execution_count": null,
   "metadata": {},
   "outputs": [],
   "source": [
    "Av_4thQuarter = Av_list.copy()\n",
    "\n",
    "for j in range(12):\n",
    "    for i in range(len(Av_list)):\n",
    "        Av_4thQuarter[i] = Av_4thQuarter[i].append(Av_list[i]).reset_index(drop=True)\n",
    "        \n",
    "\n",
    "for i in range(len(Av_list)):        \n",
    "    Av_4thQuarter[i] = Av_4thQuarter[i].append(Av_list[i][:192])\n",
    "    Av_4thQuarter[i].reset_index(inplace=True,drop=True)\n",
    "    \n",
    "for i in range(len(Av_4thQuarter)):\n",
    "    for j in range(len(Av_4thQuarter[1])-6,len(Av_4thQuarter[1])):\n",
    "        Av_4thQuarter[i][len(Av_4thQuarter[1])-6:][j]=1"
   ]
  }
 ],
 "metadata": {
  "kernelspec": {
   "display_name": "Python 3",
   "language": "python",
   "name": "python3"
  },
  "language_info": {
   "codemirror_mode": {
    "name": "ipython",
    "version": 3
   },
   "file_extension": ".py",
   "mimetype": "text/x-python",
   "name": "python",
   "nbconvert_exporter": "python",
   "pygments_lexer": "ipython3",
   "version": "3.7.7"
  },
  "pycharm": {
   "stem_cell": {
    "cell_type": "raw",
    "metadata": {
     "collapsed": false
    },
    "source": []
   }
  }
 },
 "nbformat": 4,
 "nbformat_minor": 4
}
